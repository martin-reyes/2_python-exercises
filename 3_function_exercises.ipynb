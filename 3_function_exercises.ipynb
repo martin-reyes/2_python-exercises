{
 "cells": [
  {
   "cell_type": "code",
   "execution_count": 21,
   "id": "582bd5e0",
   "metadata": {},
   "outputs": [],
   "source": [
    "# remove syntax warning for long assert \n",
    "# statements that contain parentheses\n",
    "import warnings\n",
    "warnings.filterwarnings(\"ignore\", message=\"assertion is always true, perhaps remove parentheses?\")"
   ]
  },
  {
   "cell_type": "markdown",
   "id": "8d42d821",
   "metadata": {},
   "source": [
    "1. Define a function named is_two. It should accept one input and return `True` if the passed input is either the number or the string 2, `False` otherwise."
   ]
  },
  {
   "cell_type": "code",
   "execution_count": 22,
   "id": "f1ca7968",
   "metadata": {},
   "outputs": [
    {
     "name": "stdout",
     "output_type": "stream",
     "text": [
      "Good!\n"
     ]
    }
   ],
   "source": [
    "def is_two(x):\n",
    "    if int(x) == 2:\n",
    "        return True\n",
    "    else: \n",
    "        return False\n",
    "    \n",
    "assert is_two(2) == True, \"is_two(2) doesn't return True\"\n",
    "assert is_two(\"2\") == True, \"is_two('2') doesn't return True\"\n",
    "assert is_two(4) == False, \"is_two(4) doesn't returns False\"\n",
    "print(\"Good!\")"
   ]
  },
  {
   "cell_type": "markdown",
   "id": "1b86bea8",
   "metadata": {},
   "source": [
    "2. Define a function named `is_vowel`. It should return `True` if the passed string is a vowel, `False` otherwise."
   ]
  },
  {
   "cell_type": "code",
   "execution_count": 23,
   "id": "238d4888",
   "metadata": {},
   "outputs": [
    {
     "name": "stdout",
     "output_type": "stream",
     "text": [
      "Good!\n"
     ]
    }
   ],
   "source": [
    "def is_vowel(letter):\n",
    "    # assert len(letter) == 0, \"letter isn't one character\"\n",
    "    if letter.lower() in [\"a\", \"e\", \"i\", \"o\", \"u\"]:\n",
    "        return True\n",
    "    else: \n",
    "        return False\n",
    "    \n",
    "assert is_vowel(\"a\") == True, \"is_vowel('a') doesn't return True\"\n",
    "assert is_vowel(\"u\") == True, \"is_vowel('u') doesn't return True\"\n",
    "assert is_vowel(\"t\") == False, \"is_vowel('t') doesn't returns False\"\n",
    "print(\"Good!\")"
   ]
  },
  {
   "cell_type": "markdown",
   "id": "e97fd8a0",
   "metadata": {},
   "source": [
    "3. Define a function named `is_consonant`. It should return `True` if the passed string is a consonant, `False` otherwise. Use your `is_vowel` function to accomplish this."
   ]
  },
  {
   "cell_type": "code",
   "execution_count": 42,
   "id": "f325206f",
   "metadata": {
    "scrolled": true
   },
   "outputs": [
    {
     "name": "stdout",
     "output_type": "stream",
     "text": [
      "Good!\n"
     ]
    }
   ],
   "source": [
    "def is_consonant(letter):\n",
    "    return not is_vowel(letter)\n",
    "    \n",
    "assert is_consonant(\"t\") == True, \\\n",
    "            \"is_consonant('t') doesn't return True\"\n",
    "assert is_consonant(\"b\") == True, \\\n",
    "            \"is_consonant('b') doesn't return True\"\n",
    "assert is_consonant(\"i\") == False, \\\n",
    "            \"is_consonant('i') doesn't return False\"\n",
    "print(\"Good!\")"
   ]
  },
  {
   "cell_type": "markdown",
   "id": "a39ae0d6",
   "metadata": {},
   "source": [
    "4. Define a function that accepts a string that is a word. The function should capitalize the first letter of the word if the word starts with a consonant."
   ]
  },
  {
   "cell_type": "code",
   "execution_count": 43,
   "id": "c4585429",
   "metadata": {},
   "outputs": [
    {
     "name": "stdout",
     "output_type": "stream",
     "text": [
      "Good!\n"
     ]
    }
   ],
   "source": [
    "def cap_first_letter(word):\n",
    "    if is_consonant(word[0]):\n",
    "        return word.capitalize()\n",
    "    else:\n",
    "        return word\n",
    "    \n",
    "assert cap_first_letter(\"titanic\") == \"Titanic\", \\\n",
    "        \"is_consonant('titanic')  doesn't return True\"\n",
    "assert cap_first_letter(\"bike\") == \"Bike\", \\\n",
    "        \"is_consonant('bike') doesn't return Bike\"\n",
    "assert cap_first_letter(\"iris\") == \"iris\", \\\n",
    "        \"is_consonant('iris') doesn't return iris\"\n",
    "print(\"Good!\")"
   ]
  },
  {
   "cell_type": "markdown",
   "id": "01873c98",
   "metadata": {},
   "source": [
    "5. Define a function named `calculate_tip`. It should accept a tip percentage (a number between 0 and 1) and the bill total, and return the amount to tip."
   ]
  },
  {
   "cell_type": "code",
   "execution_count": 47,
   "id": "258ceb4d",
   "metadata": {},
   "outputs": [
    {
     "name": "stdout",
     "output_type": "stream",
     "text": [
      "Good!\n"
     ]
    }
   ],
   "source": [
    "def calculate_tip(tip_perc, bill):\n",
    "    ## if we dont assume the right input throw this error\n",
    "    # assert tip_perc >= 0 and bill>= 0: \"numbers must be positive\"\n",
    "    # assert 0 <= tip_perc <= 1: \"tip not between 0 and 1\"\n",
    "    return round(bill * tip_perc, 2)\n",
    "\n",
    "assert calculate_tip(.14, 64) == 8.96, \\\n",
    "        \"calculate_tip(.14, 64)  doesn't return 8.96\"\n",
    "assert calculate_tip(.30, 25) == 7.50, \\\n",
    "        \"calculate_tip(.30, 25) doesn't return 7.50\"\n",
    "assert calculate_tip(.28, 35.55) == 9.95, \\\n",
    "        \"calculate_tip(.28, 35.55) doesn't return 9.95\"\n",
    "print(\"Good!\")"
   ]
  },
  {
   "cell_type": "markdown",
   "id": "f748145e",
   "metadata": {},
   "source": [
    "6. Define a function named `apply_discount`. It should accept a original price, and a discount percentage, and return the price after the discount is applied."
   ]
  },
  {
   "cell_type": "code",
   "execution_count": 51,
   "id": "f32d7b6e",
   "metadata": {},
   "outputs": [
    {
     "name": "stdout",
     "output_type": "stream",
     "text": [
      "Good!\n"
     ]
    }
   ],
   "source": [
    "def apply_discount(orig_price, disc_perc):\n",
    "    return round(orig_price * (1 - disc_perc), 2)\n",
    "\n",
    "assert apply_discount(68, .15) == 57.80, \\\n",
    "        \"apply_discount(68, .15)  doesn't return 57.80\"\n",
    "assert apply_discount(36, .40) == 21.60, \\\n",
    "        \"apply_discount(36, .40) doesn't return 21.60\"\n",
    "assert apply_discount(67.89, .33) == 45.49, \\\n",
    "        \"apply_discount(67.89, .33) doesn't return 45.49\"\n",
    "print(\"Good!\")"
   ]
  },
  {
   "cell_type": "markdown",
   "id": "5703ec04",
   "metadata": {},
   "source": [
    "7. Define a function named `handle_commas`. It should accept a string that is a number that contains commas in it as input, and return a number as output."
   ]
  },
  {
   "cell_type": "code",
   "execution_count": 52,
   "id": "aa516fe3",
   "metadata": {},
   "outputs": [
    {
     "name": "stdout",
     "output_type": "stream",
     "text": [
      "Good!\n"
     ]
    }
   ],
   "source": [
    "def handle_commas(str_num):\n",
    "    str_w_o_commas = \"\".join(str_num.split(','))\n",
    "    return int(str_w_o_commas)\n",
    "\n",
    "assert handle_commas('100,100,100') == 100100100, \\\n",
    "        \"handle_commas('100,100,100')  doesn't return 100100100\"\n",
    "assert handle_commas('234,321') == 234321, \\\n",
    "        \"apply_discount('234,321') doesn't return 234321\"\n",
    "assert handle_commas('199') == 199, \\\n",
    "        \"handle_commas('199') doesn't return 199\"\n",
    "print(\"Good!\")"
   ]
  },
  {
   "cell_type": "markdown",
   "id": "34ba37cd",
   "metadata": {},
   "source": [
    "8. Define a function named `get_letter_grade`. It should accept a number and return the letter grade associated with that number (A-F)."
   ]
  },
  {
   "cell_type": "code",
   "execution_count": 59,
   "id": "da6315bc",
   "metadata": {},
   "outputs": [
    {
     "name": "stdout",
     "output_type": "stream",
     "text": [
      "Good!\n"
     ]
    }
   ],
   "source": [
    "def get_letter_grade(grade):\n",
    "    \n",
    "    # could add asserts or check to make sure there is valid input\n",
    "    \n",
    "    letter_grade = ''\n",
    "    \n",
    "    if grade >= 90:\n",
    "        letter_grade = 'A'\n",
    "    elif grade >= 80:\n",
    "        letter_grade = 'B'\n",
    "    elif grade >= 75:\n",
    "        letter_grade = 'C'\n",
    "    elif grade >= 70:\n",
    "        letter_grade = 'D'\n",
    "    else:\n",
    "        letter_grade = 'F'\n",
    "    \n",
    "    return letter_grade\n",
    "\n",
    "assert get_letter_grade(91) == 'A', \\\n",
    "        \"get_letter_grade(91)  doesn't return 'A'\"\n",
    "assert get_letter_grade(75) == 'C', \\\n",
    "        \"get_letter_grade(75) doesn't return 'C'\"\n",
    "assert get_letter_grade(2) == 'F', \\\n",
    "        \"get_letter_grade(2) doesn't return 'F'\"\n",
    "print(\"Good!\")"
   ]
  },
  {
   "cell_type": "markdown",
   "id": "588ee38a",
   "metadata": {},
   "source": [
    "9. Define a function named `remove_vowels` that accepts a string and returns a string with all the vowels removed."
   ]
  },
  {
   "cell_type": "code",
   "execution_count": 64,
   "id": "886688ac",
   "metadata": {},
   "outputs": [
    {
     "name": "stdout",
     "output_type": "stream",
     "text": [
      "Good!\n"
     ]
    }
   ],
   "source": [
    "def remove_vowels(word):\n",
    "    vowels = \"aeiouAEIOU\"\n",
    "    for letter in word:\n",
    "        if letter in vowels:\n",
    "            word = word.replace(letter, \"\")\n",
    "    return word\n",
    "\n",
    "assert remove_vowels('tacos') == 'tcs', \\\n",
    "        \"remove_vowels('tacos')  doesn't return 'tcs'\"\n",
    "assert remove_vowels('rain') == 'rn', \\\n",
    "        \"remove_vowels('rain') doesn't return 'tn'\"\n",
    "assert remove_vowels('username_123') == 'srnm_123', \\\n",
    "        \"remove_vowels(username_123) doesn't return 'username_123'\"\n",
    "print(\"Good!\")"
   ]
  },
  {
   "cell_type": "markdown",
   "id": "620ddf16",
   "metadata": {},
   "source": [
    "10. Define a function named `normalize_name`. It should accept a string and return a valid python identifier, that is:\n",
    "    - anything that is not a valid python identifier should be removed\n",
    "    - leading and trailing whitespace should be removed\n",
    "    - everything should be lowercase\n",
    "    - spaces should be replaced with underscores\n",
    "    - for example:\n",
    "        - `Name` will become `name`\n",
    "        - `First Name` will become `first_name`\n",
    "        - `% Completed` will become `completed`"
   ]
  },
  {
   "cell_type": "code",
   "execution_count": 2,
   "id": "f3e7e561",
   "metadata": {},
   "outputs": [
    {
     "ename": "IndentationError",
     "evalue": "expected an indented block (106858075.py, line 1)",
     "output_type": "error",
     "traceback": [
      "\u001b[0;36m  Input \u001b[0;32mIn [2]\u001b[0;36m\u001b[0m\n\u001b[0;31m    def is_two(normalize_name):\u001b[0m\n\u001b[0m                               ^\u001b[0m\n\u001b[0;31mIndentationError\u001b[0m\u001b[0;31m:\u001b[0m expected an indented block\n"
     ]
    }
   ],
   "source": [
    "def normalize_name(name):\n",
    "    \n",
    "    return norm_name"
   ]
  },
  {
   "cell_type": "markdown",
   "id": "a2537721",
   "metadata": {},
   "source": [
    "11. Write a function named `cumulative_sum` that accepts a list of numbers and returns a list that is the cumulative sum of the numbers in the list.\n",
    "    - `cumulative_sum([1, 1, 1])` returns `[1, 2, 3]`\n",
    "    - `cumulative_sum([1, 2, 3, 4])` returns `[1, 3, 6, 10]`"
   ]
  },
  {
   "cell_type": "code",
   "execution_count": null,
   "id": "6945e1e8",
   "metadata": {},
   "outputs": [],
   "source": [
    "def cumulative_sum(numbers):\n",
    "    return"
   ]
  },
  {
   "cell_type": "markdown",
   "id": "9f2bc222",
   "metadata": {},
   "source": [
    "**Additional Exercise**\n",
    "\n",
    "- Once you've completed the above exercises, follow the directions from https://gist.github.com/zgulde/ec8ed80ad8216905cda83d5645c60886 in order to thouroughly comment your code to explain your code.\n",
    "\n",
    "**Bonus**\n",
    "\n",
    "- Create a function named `twelveto24`. It should accept a string in the format `10:45am` or `4:30pm` and return a string that is the representation of the time in a 24-hour format. **Bonus** write a function that does the opposite.\n"
   ]
  },
  {
   "cell_type": "code",
   "execution_count": 1,
   "id": "b0e03bbf",
   "metadata": {},
   "outputs": [
    {
     "ename": "IndentationError",
     "evalue": "expected an indented block (4121369520.py, line 1)",
     "output_type": "error",
     "traceback": [
      "\u001b[0;36m  Input \u001b[0;32mIn [1]\u001b[0;36m\u001b[0m\n\u001b[0;31m    def twelveto24(x):\u001b[0m\n\u001b[0m                      ^\u001b[0m\n\u001b[0;31mIndentationError\u001b[0m\u001b[0;31m:\u001b[0m expected an indented block\n"
     ]
    }
   ],
   "source": [
    "def twelveto24(date):\n",
    "    return\n",
    "def twentyfourto12(date):\n",
    "    return"
   ]
  },
  {
   "cell_type": "markdown",
   "id": "0bbfa225",
   "metadata": {},
   "source": [
    "- Create a function named `col_index`. It should accept a spreadsheet column name, and return the index number of the column.\n",
    "    - `col_index('A')` returns `1`\n",
    "    - `col_index('B')` returns `2`\n",
    "    - `col_index('AA')` returns `27`"
   ]
  },
  {
   "cell_type": "code",
   "execution_count": null,
   "id": "19986089",
   "metadata": {},
   "outputs": [],
   "source": [
    "def col_index(x):\n",
    "    return"
   ]
  }
 ],
 "metadata": {
  "kernelspec": {
   "display_name": "Python 3 (ipykernel)",
   "language": "python",
   "name": "python3"
  },
  "language_info": {
   "codemirror_mode": {
    "name": "ipython",
    "version": 3
   },
   "file_extension": ".py",
   "mimetype": "text/x-python",
   "name": "python",
   "nbconvert_exporter": "python",
   "pygments_lexer": "ipython3",
   "version": "3.9.12"
  }
 },
 "nbformat": 4,
 "nbformat_minor": 5
}
