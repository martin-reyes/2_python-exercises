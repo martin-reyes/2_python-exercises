{
 "cells": [
  {
   "cell_type": "code",
   "execution_count": 1,
   "id": "c716a087",
   "metadata": {},
   "outputs": [],
   "source": [
    "# remove syntax warning for long assert \n",
    "# statements that contain parentheses\n",
    "import warnings\n",
    "warnings.filterwarnings(\"ignore\", message=\"assertion is always true, perhaps remove parentheses?\")"
   ]
  },
  {
   "cell_type": "markdown",
   "id": "f01f4706",
   "metadata": {},
   "source": [
    "1. Define a function named is_two. It should accept one input and return `True` if the passed input is either the number or the string 2, `False` otherwise."
   ]
  },
  {
   "cell_type": "code",
   "execution_count": 2,
   "id": "53ee3aa2",
   "metadata": {},
   "outputs": [
    {
     "name": "stdout",
     "output_type": "stream",
     "text": [
      "Good!\n"
     ]
    }
   ],
   "source": [
    "def is_two(x):\n",
    "    if int(x) == 2:\n",
    "        return True\n",
    "    else: \n",
    "        return False\n",
    "    \n",
    "assert is_two(2) == True, \"is_two(2) doesn't return True\"\n",
    "assert is_two(\"2\") == True, \"is_two('2') doesn't return True\"\n",
    "assert is_two(4) == False, \"is_two(4) doesn't returns False\"\n",
    "print(\"Good!\")"
   ]
  },
  {
   "cell_type": "markdown",
   "id": "1c0755ad",
   "metadata": {},
   "source": [
    "2. Define a function named `is_vowel`. It should return `True` if the passed string is a vowel, `False` otherwise."
   ]
  },
  {
   "cell_type": "code",
   "execution_count": 3,
   "id": "9d0c8fd1",
   "metadata": {},
   "outputs": [
    {
     "name": "stdout",
     "output_type": "stream",
     "text": [
      "Good!\n"
     ]
    }
   ],
   "source": [
    "def is_vowel(letter):\n",
    "    if letter.lower() in [\"a\", \"e\", \"i\", \"o\", \"u\"]:\n",
    "        return True\n",
    "    else: \n",
    "        return False\n",
    "    \n",
    "assert is_vowel(\"a\") == True, \"is_vowel('a') doesn't return True\"\n",
    "assert is_vowel(\"u\") == True, \"is_vowel('u') doesn't return True\"\n",
    "assert is_vowel(\"t\") == False, \"is_vowel('t') doesn't returns False\"\n",
    "print(\"Good!\")"
   ]
  },
  {
   "cell_type": "markdown",
   "id": "d5745056",
   "metadata": {},
   "source": [
    "3. Define a function named `is_consonant`. It should return `True` if the passed string is a consonant, `False` otherwise. Use your `is_vowel` function to accomplish this."
   ]
  },
  {
   "cell_type": "code",
   "execution_count": 4,
   "id": "e11f18f3",
   "metadata": {
    "scrolled": true
   },
   "outputs": [
    {
     "name": "stdout",
     "output_type": "stream",
     "text": [
      "Good!\n"
     ]
    }
   ],
   "source": [
    "def is_consonant(letter):\n",
    "    return not is_vowel(letter)\n",
    "    \n",
    "assert is_consonant(\"t\") == True, \\\n",
    "            \"is_consonant('t') doesn't return True\"\n",
    "assert is_consonant(\"b\") == True, \\\n",
    "            \"is_consonant('b') doesn't return True\"\n",
    "assert is_consonant(\"i\") == False, \\\n",
    "            \"is_consonant('i') doesn't return False\"\n",
    "print(\"Good!\")"
   ]
  },
  {
   "cell_type": "markdown",
   "id": "88b63afe",
   "metadata": {},
   "source": [
    "4. Define a function that accepts a string that is a word. The function should capitalize the first letter of the word if the word starts with a consonant."
   ]
  },
  {
   "cell_type": "code",
   "execution_count": 5,
   "id": "0c953bec",
   "metadata": {},
   "outputs": [
    {
     "name": "stdout",
     "output_type": "stream",
     "text": [
      "Good!\n"
     ]
    }
   ],
   "source": [
    "def cap_first_letter(word):\n",
    "    if is_consonant(word[0]):\n",
    "        return word.capitalize()\n",
    "    else:\n",
    "        return word\n",
    "    \n",
    "assert cap_first_letter(\"titanic\") == \"Titanic\", \\\n",
    "        \"is_consonant('titanic')  doesn't return True\"\n",
    "assert cap_first_letter(\"bike\") == \"Bike\", \\\n",
    "        \"is_consonant('bike') doesn't return Bike\"\n",
    "assert cap_first_letter(\"iris\") == \"iris\", \\\n",
    "        \"is_consonant('iris') doesn't return iris\"\n",
    "print(\"Good!\")"
   ]
  },
  {
   "cell_type": "markdown",
   "id": "2be7374a",
   "metadata": {},
   "source": [
    "5. Define a function named `calculate_tip`. It should accept a tip percentage (a number between 0 and 1) and the bill total, and return the amount to tip."
   ]
  },
  {
   "cell_type": "code",
   "execution_count": 6,
   "id": "0c966c38",
   "metadata": {},
   "outputs": [
    {
     "name": "stdout",
     "output_type": "stream",
     "text": [
      "Good!\n"
     ]
    }
   ],
   "source": [
    "def calculate_tip(tip_perc, bill):\n",
    "    return round(bill * tip_perc, 2)\n",
    "\n",
    "assert calculate_tip(.14, 64) == 8.96, \\\n",
    "        \"calculate_tip(.14, 64)  doesn't return 8.96\"\n",
    "assert calculate_tip(.30, 25) == 7.50, \\\n",
    "        \"calculate_tip(.30, 25) doesn't return 7.50\"\n",
    "assert calculate_tip(.28, 35.55) == 9.95, \\\n",
    "        \"calculate_tip(.28, 35.55) doesn't return 9.95\"\n",
    "print(\"Good!\")"
   ]
  },
  {
   "cell_type": "markdown",
   "id": "0ab8b278",
   "metadata": {},
   "source": [
    "6. Define a function named `apply_discount`. It should accept a original price, and a discount percentage, and return the price after the discount is applied."
   ]
  },
  {
   "cell_type": "code",
   "execution_count": 7,
   "id": "4c29c61d",
   "metadata": {},
   "outputs": [
    {
     "name": "stdout",
     "output_type": "stream",
     "text": [
      "Good!\n"
     ]
    }
   ],
   "source": [
    "def apply_discount(orig_price, disc_perc):\n",
    "    return round(orig_price * (1 - disc_perc), 2)\n",
    "\n",
    "assert apply_discount(68, .15) == 57.80, \\\n",
    "        \"apply_discount(68, .15)  doesn't return 57.80\"\n",
    "assert apply_discount(36, .40) == 21.60, \\\n",
    "        \"apply_discount(36, .40) doesn't return 21.60\"\n",
    "assert apply_discount(67.89, .33) == 45.49, \\\n",
    "        \"apply_discount(67.89, .33) doesn't return 45.49\"\n",
    "print(\"Good!\")"
   ]
  },
  {
   "cell_type": "markdown",
   "id": "bd60025e",
   "metadata": {},
   "source": [
    "7. Define a function named `handle_commas`. It should accept a string that is a number that contains commas in it as input, and return a number as output."
   ]
  },
  {
   "cell_type": "code",
   "execution_count": 8,
   "id": "e00d6337",
   "metadata": {},
   "outputs": [
    {
     "name": "stdout",
     "output_type": "stream",
     "text": [
      "Good!\n"
     ]
    }
   ],
   "source": [
    "def handle_commas(str_num):\n",
    "    str_w_o_commas = \"\".join(str_num.split(','))\n",
    "    return int(str_w_o_commas)\n",
    "\n",
    "assert handle_commas('100,100,100') == 100100100, \\\n",
    "        \"handle_commas('100,100,100')  doesn't return 100100100\"\n",
    "assert handle_commas('234,321') == 234321, \\\n",
    "        \"apply_discount('234,321') doesn't return 234321\"\n",
    "assert handle_commas('199') == 199, \\\n",
    "        \"handle_commas('199') doesn't return 199\"\n",
    "print(\"Good!\")"
   ]
  },
  {
   "cell_type": "markdown",
   "id": "eb197816",
   "metadata": {},
   "source": [
    "8. Define a function named `get_letter_grade`. It should accept a number and return the letter grade associated with that number (A-F)."
   ]
  },
  {
   "cell_type": "code",
   "execution_count": 9,
   "id": "b7307db1",
   "metadata": {},
   "outputs": [],
   "source": [
    "def get_letter_grade(grade):\n",
    "    \n",
    "    if grade >= 90:\n",
    "        letter_grade = 'A'\n",
    "    elif grade >= 80:\n",
    "        letter_grade = 'B'\n",
    "    elif grade >= 75:\n",
    "        letter_grade = 'C'\n",
    "    elif grade >= 70:\n",
    "        letter_grade = 'D'\n",
    "    else:\n",
    "        letter_grade = 'F'\n",
    "    \n",
    "    return letter_grade"
   ]
  },
  {
   "cell_type": "code",
   "execution_count": 10,
   "id": "0b3c90a6",
   "metadata": {},
   "outputs": [
    {
     "name": "stdout",
     "output_type": "stream",
     "text": [
      "A\n",
      "C\n",
      "F\n"
     ]
    }
   ],
   "source": [
    "print(get_letter_grade(91)) # A\n",
    "print(get_letter_grade(75)) # C\n",
    "print(get_letter_grade(2)) # F"
   ]
  },
  {
   "cell_type": "code",
   "execution_count": 11,
   "id": "96e6763a",
   "metadata": {},
   "outputs": [],
   "source": [
    "def get_letter_grade2(grade):\n",
    "    \n",
    "    if grade >= 90:\n",
    "        return 'A'\n",
    "    elif grade >= 80:\n",
    "        return 'B'\n",
    "    elif grade >= 75:\n",
    "        return 'C'\n",
    "    elif grade >= 70:\n",
    "        return 'D'\n",
    "    else:\n",
    "        return 'F'"
   ]
  },
  {
   "cell_type": "code",
   "execution_count": 12,
   "id": "74c5fe1d",
   "metadata": {},
   "outputs": [
    {
     "name": "stdout",
     "output_type": "stream",
     "text": [
      "A\n",
      "C\n",
      "F\n"
     ]
    }
   ],
   "source": [
    "print(get_letter_grade2(91)) # A\n",
    "print(get_letter_grade2(75)) # C\n",
    "print(get_letter_grade2(2)) # F"
   ]
  },
  {
   "cell_type": "markdown",
   "id": "2289e81e",
   "metadata": {},
   "source": [
    "9. Define a function named `remove_vowels` that accepts a string and returns a string with all the vowels removed."
   ]
  },
  {
   "cell_type": "code",
   "execution_count": 13,
   "id": "4a907a98",
   "metadata": {},
   "outputs": [
    {
     "name": "stdout",
     "output_type": "stream",
     "text": [
      "Good!\n"
     ]
    }
   ],
   "source": [
    "def remove_vowels(word):\n",
    "    vowels = \"aeiouAEIOU\"\n",
    "    for letter in word:\n",
    "        if letter in vowels:\n",
    "            word = word.replace(letter, \"\")\n",
    "    return word\n",
    "\n",
    "assert remove_vowels('tacos') == 'tcs', \\\n",
    "        \"remove_vowels('tacos')  doesn't return 'tcs'\"\n",
    "assert remove_vowels('rain') == 'rn', \\\n",
    "        \"remove_vowels('rain') doesn't return 'rn'\"\n",
    "assert remove_vowels('username_123') == 'srnm_123', \\\n",
    "        \"remove_vowels(username_123) doesn't return 'username_123'\"\n",
    "print(\"Good!\")"
   ]
  },
  {
   "cell_type": "markdown",
   "id": "59a9f756",
   "metadata": {},
   "source": [
    "10. Define a function named `normalize_name`. It should accept a string and return a valid python identifier, that is:\n",
    "    - anything that is not a valid python identifier should be removed\n",
    "    - leading and trailing whitespace should be removed\n",
    "    - everything should be lowercase\n",
    "    - spaces should be replaced with underscores\n",
    "    - for example:\n",
    "        - `Name` will become `name`\n",
    "        - `First Name` will become `first_name`\n",
    "        - `% Completed` will become `completed`"
   ]
  },
  {
   "cell_type": "code",
   "execution_count": 14,
   "id": "c6abf442",
   "metadata": {},
   "outputs": [
    {
     "name": "stdout",
     "output_type": "stream",
     "text": [
      "Good!\n"
     ]
    }
   ],
   "source": [
    "import re\n",
    "\n",
    "def normalize_name(name):\n",
    "    # remove non-alphabet characters\n",
    "    normalized = re.sub(r'\\W+', ' ', name)\n",
    "    \n",
    "    # normalize whitespace and convert to lowercase\n",
    "    normalized = normalized.strip().lower().replace(' ', '_')\n",
    "\n",
    "    # remove numbers at the beginning\n",
    "    if normalized[0].isdigit():  # remove numbers at the beginning\n",
    "        normalized = re.sub(r'^\\d+', '', normalized)\n",
    "    return normalized\n",
    "\n",
    "assert normalize_name('Name') == 'name', \\\n",
    "        \"normalize_name('Name') != 'name'\"\n",
    "assert normalize_name('First Name') == 'first_name', \\\n",
    "        \"normalize_name('First Name') != 'first_name'\"\n",
    "assert normalize_name('% Completed') == 'completed', \\\n",
    "        \"normalize_name('% Completed') != 'completed'\"\n",
    "\n",
    "\n",
    "print('Good!')"
   ]
  },
  {
   "cell_type": "markdown",
   "id": "b5c5d7aa",
   "metadata": {},
   "source": [
    "11. Write a function named `cumulative_sum` that accepts a list of numbers and returns a list that is the cumulative sum of the numbers in the list.\n",
    "    - `cumulative_sum([1, 1, 1])` returns `[1, 2, 3]`\n",
    "    - `cumulative_sum([1, 2, 3, 4])` returns `[1, 3, 6, 10]`"
   ]
  },
  {
   "cell_type": "code",
   "execution_count": 15,
   "id": "d1641b39",
   "metadata": {},
   "outputs": [
    {
     "name": "stdout",
     "output_type": "stream",
     "text": [
      "Good!\n"
     ]
    }
   ],
   "source": [
    "def cumulative_sum(numbers):\n",
    "    return [sum(numbers[:i+1]) for i in range(len(numbers))]\n",
    "\n",
    "assert cumulative_sum([1, 1, 1]) == [1, 2, 3], \\\n",
    "        'cumulative_sum([1, 1, 1]) != [1, 2, 3]'\n",
    "assert cumulative_sum([1, 2, 3, 4]) == [1, 3, 6, 10], \\\n",
    "        'cumulative_sum([1, 2, 3, 4]) != [1, 3, 6, 10]'\n",
    "assert cumulative_sum([2, 5, 9, 11]) == [2, 7, 16, 27], \\\n",
    "        'cumulative_sum([2, 5, 9, 11]) != [2, 7, 16, 27]'\n",
    "\n",
    "print('Good!')"
   ]
  },
  {
   "cell_type": "markdown",
   "id": "9f2bc222",
   "metadata": {},
   "source": [
    "**Additional Exercise**\n",
    "\n",
    "- Once you've completed the above exercises, follow the directions from https://gist.github.com/zgulde/ec8ed80ad8216905cda83d5645c60886 in order to thouroughly comment your code to explain your code.\n",
    "\n",
    "**Bonus**\n",
    "\n",
    "- Create a function named `twelveto24`. It should accept a string in the format `10:45am` or `4:30pm` and return a string that is the representation of the time in a 24-hour format. **Bonus** write a function that does the opposite.\n"
   ]
  },
  {
   "cell_type": "code",
   "execution_count": 106,
   "id": "7848dbbd",
   "metadata": {},
   "outputs": [
    {
     "name": "stdout",
     "output_type": "stream",
     "text": [
      "07:23\n",
      "19:46\n"
     ]
    }
   ],
   "source": [
    "def twelveto24(time_str):\n",
    "    \"\"\"\n",
    "    Converts a time string in the format of '10:45am' or '4:30pm' to 24-hour format.\n",
    "    \"\"\"\n",
    "    # Split the time string into hours, minutes, and am/pm\n",
    "    time_parts = time_str.split(\":\")\n",
    "    minutes = time_parts[1][:2]\n",
    "    am_pm = time_parts[1][-2:].lower()\n",
    "    hours = int(time_parts[0])\n",
    "    \n",
    "    # Convert 12-hour format to 24-hour format\n",
    "    if am_pm == \"pm\" and hours != 12:\n",
    "        hours += 12\n",
    "    elif am_pm == \"am\" and hours == 12:\n",
    "        hours = 0\n",
    "    \n",
    "    # Return the formatted 24-hour time\n",
    "    return f\"{hours:02d}:{minutes}\"\n",
    "\n",
    "print(twelveto24('7:23am'))\n",
    "print(twelveto24('7:46pm'))"
   ]
  },
  {
   "cell_type": "code",
   "execution_count": 119,
   "id": "3e1b9de6",
   "metadata": {},
   "outputs": [
    {
     "name": "stdout",
     "output_type": "stream",
     "text": [
      "7:23am\n",
      "7:46pm\n",
      "12:46am\n"
     ]
    }
   ],
   "source": [
    "def twentyfourto12(time_str):\n",
    "    \"\"\"\n",
    "    Converts a time string in the format of '10:45am' or '4:30pm' to 24-hour format.\n",
    "    \"\"\"\n",
    "    # Split the time string into hours, minutes, and am/pm\n",
    "    time_parts = time_str.split(\":\")\n",
    "    minutes = time_parts[1]\n",
    "    hours = int(time_parts[0])\n",
    "    m = 'am'\n",
    "    \n",
    "    # Convert 12-hour format to 24-hour format\n",
    "    if 11 < hours < 24:\n",
    "        hours -= 12\n",
    "        m = 'pm'\n",
    "    if hours == 24:\n",
    "        hours -= 12\n",
    "    \n",
    "    # Return the formatted 24-hour time\n",
    "    return f\"{hours}:{minutes}{m}\"\n",
    "    \n",
    "print(twentyfourto12('07:23'))\n",
    "print(twentyfourto12('19:46'))\n",
    "print(twentyfourto12('24:46'))"
   ]
  },
  {
   "cell_type": "markdown",
   "id": "724c111d",
   "metadata": {},
   "source": [
    "- Create a function named `col_index`. It should accept a spreadsheet column name, and return the index number of the column.\n",
    "    - `col_index('A')` returns `1`\n",
    "    - `col_index('B')` returns `2`\n",
    "    - `col_index('AA')` returns `27`"
   ]
  },
  {
   "cell_type": "code",
   "execution_count": null,
   "id": "19986089",
   "metadata": {},
   "outputs": [],
   "source": [
    "def col_index(string):\n",
    "    a = 'abcdefghijklmnopqrstuvwxyz'\n",
    "    idx = 0\n",
    "    \n",
    "    # add last char\n",
    "    idx += a.index(string[len(string) - 1]) + 1\n",
    "    \n",
    "    # add prev chars\n",
    "    if len(string) > 1:\n",
    "        for i, letter in string[:len(string) - 1]: \n",
    "            idx *= a.index(letter)\n",
    "    return idx\n",
    "    \n",
    "print(col_index('A')) # 1\n",
    "print(col_index('B')) # 2\n",
    "print(col_index('AA')) # 27"
   ]
  }
 ],
 "metadata": {
  "kernelspec": {
   "display_name": "Python 3 (ipykernel)",
   "language": "python",
   "name": "python3"
  },
  "language_info": {
   "codemirror_mode": {
    "name": "ipython",
    "version": 3
   },
   "file_extension": ".py",
   "mimetype": "text/x-python",
   "name": "python",
   "nbconvert_exporter": "python",
   "pygments_lexer": "ipython3",
   "version": "3.10.9"
  },
  "varInspector": {
   "cols": {
    "lenName": 16,
    "lenType": 16,
    "lenVar": 40
   },
   "kernels_config": {
    "python": {
     "delete_cmd_postfix": "",
     "delete_cmd_prefix": "del ",
     "library": "var_list.py",
     "varRefreshCmd": "print(var_dic_list())"
    },
    "r": {
     "delete_cmd_postfix": ") ",
     "delete_cmd_prefix": "rm(",
     "library": "var_list.r",
     "varRefreshCmd": "cat(var_dic_list()) "
    }
   },
   "types_to_exclude": [
    "module",
    "function",
    "builtin_function_or_method",
    "instance",
    "_Feature"
   ],
   "window_display": false
  }
 },
 "nbformat": 4,
 "nbformat_minor": 5
}
