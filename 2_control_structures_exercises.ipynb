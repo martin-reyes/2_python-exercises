{
 "cells": [
  {
   "cell_type": "markdown",
   "id": "1c9db492",
   "metadata": {},
   "source": [
    "### 1. Conditional Basics"
   ]
  },
  {
   "cell_type": "markdown",
   "id": "acf48d54",
   "metadata": {},
   "source": [
    "- Prompt the user for a day of the week, print out whether the day is Monday or not\n",
    "- Prompt the user for a day of the week, print out whether the day is a weekday or a weekend"
   ]
  },
  {
   "cell_type": "code",
   "execution_count": 3,
   "id": "c9ae70de",
   "metadata": {},
   "outputs": [
    {
     "name": "stdout",
     "output_type": "stream",
     "text": [
      "Day of the week: Friday\n",
      "Day is Weekday\n"
     ]
    }
   ],
   "source": [
    "day_of_week = input(\"Day of the week: \")\n",
    "\n",
    "if day_of_week.lower() == \"monday\":\n",
    "    print(\"Day is Monday\")\n",
    "elif day_of_week.lower() in ['saturday', 'sunday']:\n",
    "    print(\"Day is Weekend\")\n",
    "else:\n",
    "    print(\"Day is Weekday\")"
   ]
  },
  {
   "cell_type": "markdown",
   "id": "0ad27a1a",
   "metadata": {},
   "source": [
    "- Calculate a weekly paycheck, accounting for overtime pay. Create variables and make up values for:\n",
    "\n",
    "    - The number of hours worked in one week\n",
    "    - The hourly rate\n",
    "\n",
    "    For calculating pay:\n",
    "\n",
    "    - For working 40 hours or less, each hour is paid at the hourly rate\n",
    "    - For working more than 40 hours\n",
    "\n",
    "        - the first 40 hours are paid at the hourly rate\n",
    "\n",
    "        - each hour after 40 is paid at time and a half (hourly rate * 1.5)\n"
   ]
  },
  {
   "cell_type": "code",
   "execution_count": 4,
   "id": "d0fdc0b3",
   "metadata": {},
   "outputs": [
    {
     "name": "stdout",
     "output_type": "stream",
     "text": [
      "600\n"
     ]
    }
   ],
   "source": [
    "hours_worked = 40\n",
    "hourly_rate = 15\n",
    "\n",
    "# Calculate the pay\n",
    "if hours_worked <= 40:\n",
    "    pay = hours_worked * hourly_rate\n",
    "else:\n",
    "    regular_pay = 40 * hourly_rate\n",
    "    overtime_pay = (hours_worked - 40) * hourly_rate * 1.5\n",
    "    pay = regular_pay + overtime_pay\n",
    "\n",
    "print(pay)"
   ]
  },
  {
   "cell_type": "markdown",
   "id": "4e4c7f77",
   "metadata": {},
   "source": [
    "### 2. Loop Basics\n",
    "\n",
    "- **While**\n",
    "\n",
    "  - Create an integer variable `i` with a value of 5. Create a while loop that runs so long as i is less than or equal to 15. Each loop iteration, output the current value of i, then increment i by one.\n",
    "    \n",
    "    Your output should look like this:\n",
    "\n",
    "```\n",
    "    5\n",
    "    6\n",
    "    7\n",
    "    8\n",
    "    9\n",
    "    10\n",
    "    11\n",
    "    12\n",
    "    13\n",
    "    14\n",
    "    15\n",
    "```\n",
    "   "
   ]
  },
  {
   "cell_type": "code",
   "execution_count": 5,
   "id": "950b869f",
   "metadata": {
    "scrolled": true
   },
   "outputs": [
    {
     "name": "stdout",
     "output_type": "stream",
     "text": [
      "5\n",
      "6\n",
      "7\n",
      "8\n",
      "9\n",
      "10\n",
      "11\n",
      "12\n",
      "13\n",
      "14\n",
      "15\n"
     ]
    }
   ],
   "source": [
    "i = 5\n",
    "while i <= 15:\n",
    "    print(i)\n",
    "    i += 1"
   ]
  },
  {
   "cell_type": "markdown",
   "id": "0fff3124",
   "metadata": {},
   "source": [
    " - Create a while loop that will count by 2's starting with 0 and ending at 100. Follow each number with a new line.\n",
    "    - Create a while loop that starts at 2, and displays the number squared on each line while the number is less than 1,000,000. Output should equal:\n",
    "\n",
    "```\n",
    " 2\n",
    " 4\n",
    " 16\n",
    " 256\n",
    " 65536\n",
    "```\n"
   ]
  },
  {
   "cell_type": "code",
   "execution_count": 6,
   "id": "e696ebe3",
   "metadata": {},
   "outputs": [
    {
     "name": "stdout",
     "output_type": "stream",
     "text": [
      "2\n",
      "4\n",
      "16\n",
      "256\n",
      "65536\n"
     ]
    }
   ],
   "source": [
    "x = 2\n",
    "while x < 1_000_000:\n",
    "    print(x)\n",
    "    x = x ** 2"
   ]
  },
  {
   "cell_type": "markdown",
   "id": "91175747",
   "metadata": {},
   "source": [
    "- Write a while loop that uses print to create the output shown below.\n",
    "\n",
    "\n",
    "```\n",
    "100\n",
    "95\n",
    "90\n",
    "85\n",
    "80\n",
    "75\n",
    "70\n",
    "65\n",
    "60\n",
    "55\n",
    "50\n",
    "45\n",
    "40\n",
    "35\n",
    "30\n",
    "25\n",
    "20\n",
    "15\n",
    "10\n",
    "5\n",
    "```\n",
    "\n",
    "\n"
   ]
  },
  {
   "cell_type": "code",
   "execution_count": 7,
   "id": "9d281107",
   "metadata": {},
   "outputs": [
    {
     "name": "stdout",
     "output_type": "stream",
     "text": [
      "100\n",
      "95\n",
      "90\n",
      "85\n",
      "80\n",
      "75\n",
      "70\n",
      "65\n",
      "60\n",
      "55\n",
      "50\n",
      "45\n",
      "40\n",
      "35\n",
      "30\n",
      "25\n",
      "20\n",
      "15\n",
      "10\n",
      "5\n"
     ]
    }
   ],
   "source": [
    "y = 100\n",
    "while y > 0:\n",
    "    print(y)\n",
    "    y -= 5"
   ]
  },
  {
   "cell_type": "markdown",
   "id": "c94d6fe1",
   "metadata": {},
   "source": [
    "- **For Loops**\n",
    "\n",
    "    - Write some code using a for loop that prompts the user for a number, then shows a multiplication table up through 10 for that number.\n",
    "\n",
    "        For example, if the user enters 7, your program should output:\n",
    "\n",
    "```\n",
    "7 x 1 = 7\n",
    "7 x 2 = 14\n",
    "7 x 3 = 21\n",
    "7 x 4 = 28\n",
    "7 x 5 = 35\n",
    "7 x 6 = 42\n",
    "7 x 7 = 49\n",
    "7 x 8 = 56\n",
    "7 x 9 = 63\n",
    "7 x 10 = 70\n",
    "```"
   ]
  },
  {
   "cell_type": "code",
   "execution_count": 8,
   "id": "919fcc4d",
   "metadata": {},
   "outputs": [
    {
     "name": "stdout",
     "output_type": "stream",
     "text": [
      "Input number: 5\n",
      "5 x 1 = 5\n",
      "5 x 2 = 10\n",
      "5 x 3 = 15\n",
      "5 x 4 = 20\n",
      "5 x 5 = 25\n",
      "5 x 6 = 30\n",
      "5 x 7 = 35\n",
      "5 x 8 = 40\n",
      "5 x 9 = 45\n",
      "5 x 10 = 50\n"
     ]
    }
   ],
   "source": [
    "a = input(\"Input number: \")\n",
    "for n in range(10):\n",
    "    print(str(a) + \" x \" + str(n + 1) + \" = \" + str((n + 1) * int(a)))"
   ]
  },
  {
   "cell_type": "markdown",
   "id": "a3305ab4",
   "metadata": {},
   "source": [
    "- Create a for loop that uses print to create the output shown below.\n",
    "\n",
    "```\n",
    "1\n",
    "22\n",
    "333\n",
    "4444\n",
    "55555\n",
    "666666\n",
    "7777777\n",
    "88888888\n",
    "999999999\n",
    "```"
   ]
  },
  {
   "cell_type": "code",
   "execution_count": 9,
   "id": "988404f9",
   "metadata": {},
   "outputs": [
    {
     "name": "stdout",
     "output_type": "stream",
     "text": [
      "1\n",
      "22\n",
      "333\n",
      "4444\n",
      "55555\n",
      "666666\n",
      "7777777\n",
      "88888888\n",
      "999999999\n"
     ]
    }
   ],
   "source": [
    "for i in range(1, 10):\n",
    "    print(str(i) * i)"
   ]
  },
  {
   "cell_type": "markdown",
   "id": "81bebc77",
   "metadata": {},
   "source": [
    "- **`break` and `continue`**\n",
    "\n",
    "a. Write a program that prompts the user for a positive integer. Next write a loop that prints out the numbers from the number the user entered down to 1.\n"
   ]
  },
  {
   "cell_type": "code",
   "execution_count": 10,
   "id": "cb1f1cbf",
   "metadata": {},
   "outputs": [
    {
     "name": "stdout",
     "output_type": "stream",
     "text": [
      "Enter positive integer: 2\n",
      "2\n",
      "1\n"
     ]
    }
   ],
   "source": [
    "# prompt the user for a positive integer\n",
    "x = int(input(\"Enter positive integer: \"))\n",
    "while x >= 1:\n",
    "    print(x)\n",
    "    x -= 1"
   ]
  },
  {
   "cell_type": "markdown",
   "id": "de6a8ce6",
   "metadata": {},
   "source": [
    "b. The `input` function can be used to prompt for input and use that input in your python code. Prompt the user to enter a positive number and write a loop that counts from 0 to that number. (Hints: note that the `input` function returns a string, so you'll need to convert this to a numeric type.)\n"
   ]
  },
  {
   "cell_type": "code",
   "execution_count": 11,
   "id": "cca1cd16",
   "metadata": {},
   "outputs": [
    {
     "name": "stdout",
     "output_type": "stream",
     "text": [
      "Enter positive integer: 5\n",
      "0\n",
      "1\n",
      "2\n",
      "3\n",
      "4\n",
      "5\n"
     ]
    }
   ],
   "source": [
    "y = int(input(\"Enter positive integer: \"))\n",
    "for i in range(y + 1):\n",
    "    print(i)"
   ]
  },
  {
   "cell_type": "markdown",
   "id": "a5adb32d",
   "metadata": {},
   "source": [
    "c. Prompt the user for an odd number between 1 and 50. Use a loop and a `break` statement to continue prompting the user if they enter invalid input. (Hint: use the `isdigit` method on strings to determine this). Use a loop and the `continue` statement to output all the odd numbers between 1 and 50, except for the number the user entered.\n",
    "\n",
    "    Your output should look like this:\n",
    "\n",
    "    ```Number to skip is: 27\n",
    "\n",
    "    Here is an odd number: 1\n",
    "    Here is an odd number: 3\n",
    "    Here is an odd number: 5\n",
    "    Here is an odd number: 7\n",
    "    Here is an odd number: 9\n",
    "    Here is an odd number: 11\n",
    "    Here is an odd number: 13\n",
    "    Here is an odd number: 15\n",
    "    Here is an odd number: 17\n",
    "    Here is an odd number: 19\n",
    "    Here is an odd number: 21\n",
    "    Here is an odd number: 23\n",
    "    Here is an odd number: 25\n",
    "    Yikes! Skipping number: 27\n",
    "    Here is an odd number: 29\n",
    "    Here is an odd number: 31\n",
    "    Here is an odd number: 33\n",
    "    Here is an odd number: 35\n",
    "    Here is an odd number: 37\n",
    "    Here is an odd number: 39\n",
    "    Here is an odd number: 41\n",
    "    Here is an odd number: 43\n",
    "    Here is an odd number: 45\n",
    "    Here is an odd number: 47\n",
    "    Here is an odd number: 49\n",
    "    ```"
   ]
  },
  {
   "cell_type": "code",
   "execution_count": 12,
   "id": "7b44b7b1",
   "metadata": {
    "scrolled": true
   },
   "outputs": [
    {
     "name": "stdout",
     "output_type": "stream",
     "text": [
      "Enter an odd number between 1 and 50: 24\n",
      "Enter an odd number between 1 and 50: 1000\n",
      "Enter an odd number between 1 and 50: -10\n",
      "Enter an odd number between 1 and 50: 13\n",
      "Number to skip is 13\n",
      "Here is an odd number: 1\n",
      "Here is an odd number: 3\n",
      "Here is an odd number: 5\n",
      "Here is an odd number: 7\n",
      "Here is an odd number: 9\n",
      "Here is an odd number: 11\n",
      "Yikes! Skipping number: 13\n",
      "Here is an odd number: 15\n",
      "Here is an odd number: 17\n",
      "Here is an odd number: 19\n",
      "Here is an odd number: 21\n",
      "Here is an odd number: 23\n",
      "Here is an odd number: 25\n",
      "Here is an odd number: 27\n",
      "Here is an odd number: 29\n",
      "Here is an odd number: 31\n",
      "Here is an odd number: 33\n",
      "Here is an odd number: 35\n",
      "Here is an odd number: 37\n",
      "Here is an odd number: 39\n",
      "Here is an odd number: 41\n",
      "Here is an odd number: 43\n",
      "Here is an odd number: 45\n",
      "Here is an odd number: 47\n",
      "Here is an odd number: 49\n"
     ]
    }
   ],
   "source": [
    "z = input(\"Enter an odd number between 1 and 50: \")\n",
    "# print(z.isdigit())\n",
    "# print(int(z) % 2 == 1)\n",
    "\n",
    "# while not a digit or while even int\n",
    "while not z.isdigit() or int(z) % 2 == 0 or not (1 < int(z) < 50):\n",
    "    z = input(\"Enter an odd number between 1 and 50: \")\n",
    "print(f\"Number to skip is {z}\")\n",
    "for i in range(50):\n",
    "    if i == int(z):\n",
    "        print(f\"Yikes! Skipping number: {i}\")\n",
    "    elif i % 2 == 1:\n",
    "        print(f\"Here is an odd number: {i}\")"
   ]
  },
  {
   "cell_type": "markdown",
   "id": "52a6de5e",
   "metadata": {},
   "source": [
    "3. Fizzbuzz\n",
    "\n",
    "    One of the most common interview questions for entry-level programmers is the FizzBuzz test. Developed by Imran Ghory, the test is designed to test basic looping and conditional logic skills.\n",
    "\n",
    "- Write a program that prints the numbers from 1 to 100.\n",
    "- For multiples of three print \"Fizz\" instead of the number\n",
    "- For the multiples of five print \"Buzz\".\n",
    "- For numbers which are multiples of both three and five print \"FizzBuzz\"."
   ]
  },
  {
   "cell_type": "code",
   "execution_count": 14,
   "id": "81d82b3c",
   "metadata": {
    "scrolled": true
   },
   "outputs": [
    {
     "name": "stdout",
     "output_type": "stream",
     "text": [
      "1\n",
      "2\n",
      "Fizz\n",
      "4\n",
      "Buzz\n",
      "Fizz\n",
      "7\n",
      "8\n",
      "Fizz\n",
      "Buzz\n",
      "11\n",
      "Fizz\n",
      "13\n",
      "14\n",
      "FizzBuzz\n",
      "16\n",
      "17\n",
      "Fizz\n",
      "19\n",
      "Buzz\n",
      "Fizz\n",
      "22\n",
      "23\n",
      "Fizz\n",
      "Buzz\n",
      "26\n",
      "Fizz\n",
      "28\n",
      "29\n",
      "FizzBuzz\n",
      "31\n",
      "32\n",
      "Fizz\n",
      "34\n",
      "Buzz\n",
      "Fizz\n",
      "37\n",
      "38\n",
      "Fizz\n",
      "Buzz\n",
      "41\n",
      "Fizz\n",
      "43\n",
      "44\n",
      "FizzBuzz\n",
      "46\n",
      "47\n",
      "Fizz\n",
      "49\n",
      "Buzz\n",
      "Fizz\n",
      "52\n",
      "53\n",
      "Fizz\n",
      "Buzz\n",
      "56\n",
      "Fizz\n",
      "58\n",
      "59\n",
      "FizzBuzz\n",
      "61\n",
      "62\n",
      "Fizz\n",
      "64\n",
      "Buzz\n",
      "Fizz\n",
      "67\n",
      "68\n",
      "Fizz\n",
      "Buzz\n",
      "71\n",
      "Fizz\n",
      "73\n",
      "74\n",
      "FizzBuzz\n",
      "76\n",
      "77\n",
      "Fizz\n",
      "79\n",
      "Buzz\n",
      "Fizz\n",
      "82\n",
      "83\n",
      "Fizz\n",
      "Buzz\n",
      "86\n",
      "Fizz\n",
      "88\n",
      "89\n",
      "FizzBuzz\n",
      "91\n",
      "92\n",
      "Fizz\n",
      "94\n",
      "Buzz\n",
      "Fizz\n",
      "97\n",
      "98\n",
      "Fizz\n",
      "Buzz\n"
     ]
    }
   ],
   "source": [
    "for i in range(1, 101):\n",
    "    if i % 3 == 0 and i % 5 == 0:\n",
    "        print(\"FizzBuzz\")\n",
    "    elif i % 3 == 0:\n",
    "        print(\"Fizz\")\n",
    "    elif i % 5 == 0:\n",
    "        print(\"Buzz\")\n",
    "    else:\n",
    "        print(i)"
   ]
  },
  {
   "cell_type": "markdown",
   "id": "62d8dbc5",
   "metadata": {},
   "source": [
    "4. Display a table of powers.\n",
    "\n",
    "- Prompt the user to enter an integer\n",
    "- Display a table of squares and cubes from 1 to the value entered\n",
    "- Ask if the user wants to continue\n",
    "- Assume that the user will enter valid data\n",
    "- Only continue if the user agrees to\n",
    "\n",
    "    Example Output\n",
    "\n",
    "    ```\n",
    "    What number would you like to go up to? 5\n",
    "\n",
    "    Here is your table!\n",
    "\n",
    "    number | squared | cubed\n",
    "    ------ | ------- | -----\n",
    "    1      | 1       | 1\n",
    "    2      | 4       | 8\n",
    "    3      | 9       | 27\n",
    "    4      | 16      | 64\n",
    "    5      | 25      | 125\n",
    "    ```"
   ]
  },
  {
   "cell_type": "code",
   "execution_count": 15,
   "id": "e7906e90",
   "metadata": {
    "scrolled": true
   },
   "outputs": [
    {
     "name": "stdout",
     "output_type": "stream",
     "text": [
      "What number would you like to go up to? 25\n",
      "\n",
      "Here is your table!\n",
      "\n",
      "number | squared | cubed\n",
      "------ | ------- | -----\n",
      "1      | 1       | 1    \n",
      "2      | 4       | 8    \n",
      "3      | 9       | 27   \n",
      "4      | 16      | 64   \n",
      "5      | 25      | 125  \n",
      "6      | 36      | 216  \n",
      "7      | 49      | 343  \n",
      "8      | 64      | 512  \n",
      "9      | 81      | 729  \n",
      "10     | 100     | 1000 \n",
      "11     | 121     | 1331 \n",
      "12     | 144     | 1728 \n",
      "13     | 169     | 2197 \n",
      "14     | 196     | 2744 \n",
      "15     | 225     | 3375 \n",
      "16     | 256     | 4096 \n",
      "17     | 289     | 4913 \n",
      "18     | 324     | 5832 \n",
      "19     | 361     | 6859 \n",
      "20     | 400     | 8000 \n",
      "21     | 441     | 9261 \n",
      "22     | 484     | 10648\n",
      "23     | 529     | 12167\n",
      "24     | 576     | 13824\n",
      "25     | 625     | 15625\n",
      "Do you want to continue? (y/n) y\n",
      "What number would you like to go up to? 3\n",
      "\n",
      "Here is your table!\n",
      "\n",
      "number | squared | cubed\n",
      "------ | ------- | -----\n",
      "1      | 1       | 1    \n",
      "2      | 4       | 8    \n",
      "3      | 9       | 27   \n",
      "Do you want to continue? (y/n) n\n"
     ]
    }
   ],
   "source": [
    "while True:\n",
    "    # Prompt user to enter an integer\n",
    "    num = int(input(\"What number would you like to go up to? \"))\n",
    "\n",
    "    # Display a table of squares and cubes from 1 to the num\n",
    "    print(\"\\nHere is your table!\\n\")\n",
    "    print(\"number | squared | cubed\")\n",
    "    print(\"------ | ------- | -----\")\n",
    "    for i in range(1, num+1):\n",
    "        print(f\"{i:<6} | {i**2:<7} | {i**3:<5}\")\n",
    "\n",
    "    # Ask if the user wants to continue\n",
    "    cont = input(\"Do you want to continue? (y/n) \")\n",
    "    \n",
    "    # continue if  user agrees to\n",
    "    if cont.lower() != 'y':\n",
    "        break"
   ]
  },
  {
   "cell_type": "markdown",
   "id": "167600c6",
   "metadata": {},
   "source": [
    "5. Convert given number grades into letter grades.\n",
    "\n",
    "- Prompt the user for a numerical grade from 0 to 100\n",
    "- Display the corresponding letter grade\n",
    "- Prompt the user to continue\n",
    "- Assume that the user will enter valid integers for the grades\n",
    "- The application should only continue if the user agrees to\n",
    "- Grade Ranges:\n",
    "    - A : 100 - 88\n",
    "    - B : 87 - 80\n",
    "    - C : 79 - 67\n",
    "    - D : 66 - 60\n",
    "    - F : 59 - 0"
   ]
  },
  {
   "cell_type": "code",
   "execution_count": 16,
   "id": "d863ec8a",
   "metadata": {},
   "outputs": [
    {
     "name": "stdout",
     "output_type": "stream",
     "text": [
      "Enter grade: 50\n",
      "F\n",
      "Do you want to continue? (y/n) n\n"
     ]
    }
   ],
   "source": [
    "while True:\n",
    "\n",
    "# Prompt the user for a numerical grade from 0 to 100\n",
    "    grade = int(input(\"Enter grade: \"))\n",
    "\n",
    "    # Display the corresponding letter grade\n",
    "    if grade >= 88:\n",
    "        letter_grade = 'A'\n",
    "    elif grade >= 80:\n",
    "        letter_grade = 'B'\n",
    "    elif grade >= 67:\n",
    "        letter_grade = 'C'\n",
    "    elif grade >= 60:\n",
    "        letter_grade = 'D'\n",
    "    else:\n",
    "        letter_grade = 'F'\n",
    "\n",
    "    print(letter_grade)\n",
    "\n",
    "    # Prompt the user to continue\n",
    "    cont = input(\"Do you want to continue? (y/n) \")\n",
    "\n",
    "    # Continue if  user agrees to\n",
    "    if cont.lower() != 'y':\n",
    "        break"
   ]
  },
  {
   "cell_type": "markdown",
   "id": "2f290849",
   "metadata": {},
   "source": [
    "6. Create a list of dictionaries where each dictionary represents a book that you have read. Each dictionary in the list should have the keys title, author, and genre. Loop through the list and print out information about each book.\n",
    "\n",
    "    a. Prompt the user to enter a genre, then loop through your books list and print out the titles of all the books in that genre."
   ]
  },
  {
   "cell_type": "code",
   "execution_count": 18,
   "id": "cdfefcf3",
   "metadata": {},
   "outputs": [
    {
     "name": "stdout",
     "output_type": "stream",
     "text": [
      "It, Stephen King, Horror\n",
      "The Cuckoo's Calling, J.K. Rowling, Crime Fiction\n",
      "Carrie, Stephen King, Horror\n",
      "Genre: horror\n",
      "It\n",
      "Carrie\n"
     ]
    }
   ],
   "source": [
    "# list of dictionaries of books\n",
    "books = [{'title': 'It', 'author': 'Stephen King',\n",
    "          'genre': 'Horror'},\n",
    "         {'title': 'The Cuckoo\\'s Calling', 'author': 'J.K. Rowling',\n",
    "          'genre': 'Crime Fiction'},\n",
    "         {'title': 'Carrie', 'author': 'Stephen King',\n",
    "          'genre': 'Horror'}]\n",
    "\n",
    "# Loop through the list and print out information about each book.\n",
    "for book in books:\n",
    "   (print(book['title'] + \", \" + book['author']\n",
    "          + \", \" + book['genre']))\n",
    "\n",
    "# Prompt user to enter genre\n",
    "genre = input(\"Genre: \")\n",
    "\n",
    "# print books if they match genre\n",
    "for book in books:\n",
    "    if genre == book['genre'].lower():\n",
    "        (print(book['title']))"
   ]
  },
  {
   "cell_type": "markdown",
   "id": "e7b8b411",
   "metadata": {},
   "source": [
    "- **BONUS Exercises**\n",
    "\n",
    "For your Power of Tables exercise, research python's format string specifiers to align the table\n",
    "\n",
    "- '<width': left align text within a field of width characters\n",
    "- '>width': right align text within a field of width characters\n",
    "- '^width': center align text within a field of width characters\n",
    "\n",
    "\n",
    "For your Number Grade to Letter Grade exercise, edit your grade ranges to include pluses and minuses (ex: 99-100 = A+)\n",
    "\n",
    "For practicing with list comprehensions, work through [17 List Comprehension Exercises](https://gist.github.com/ryanorsinger/f7d7c1dd6a328730c04f3dc5c5c69f3a)\n",
    "\n"
   ]
  },
  {
   "cell_type": "code",
   "execution_count": 35,
   "id": "98a94d3c",
   "metadata": {},
   "outputs": [
    {
     "data": {
      "text/plain": [
       "['MANGO', 'KIWI', 'STRAWBERRY', 'GUAVA', 'PINEAPPLE', 'MANDARIN ORANGE']"
      ]
     },
     "execution_count": 35,
     "metadata": {},
     "output_type": "execute_result"
    }
   ],
   "source": [
    "# 17 list comprehension problems in python\n",
    "\n",
    "fruits = ['mango', 'kiwi', 'strawberry', 'guava', 'pineapple', 'mandarin orange']\n",
    "\n",
    "numbers = [2, 3, 4, 5, 6, 7, 8, 9, 10, 11, 13, 17, 19, 23, 256, -8, -4, -2, 5, -9]\n",
    "\n",
    "# Example for loop solution to add 1 to each number in the list\n",
    "numbers_plus_one = []\n",
    "for number in numbers:\n",
    "    numbers_plus_one.append(number + 1)\n",
    "\n",
    "# Example of using a list comprehension to create a list of the numbers plus one.\n",
    "numbers_plus_one = [number + 1 for number in numbers]\n",
    "\n",
    "# Example code that creates a list of all of the list of strings in fruits and uppercases every string\n",
    "output = []\n",
    "for fruit in fruits:\n",
    "    output.append(fruit.upper())\n",
    "    \n",
    "# Exercise 1 - rewrite the above example code using list comprehension syntax. \n",
    "# Make a variable named uppercased_fruits to hold the output of the list comprehension.\n",
    "# Output should be ['MANGO', 'KIWI', etc...]\n",
    "uppercased_fruits = [fruit.upper() for fruit in fruits]\n",
    "uppercased_fruits"
   ]
  },
  {
   "cell_type": "code",
   "execution_count": 36,
   "id": "f4eb961e",
   "metadata": {},
   "outputs": [
    {
     "data": {
      "text/plain": [
       "['Mango', 'Kiwi', 'Strawberry', 'Guava', 'Pineapple', 'Mandarin orange']"
      ]
     },
     "execution_count": 36,
     "metadata": {},
     "output_type": "execute_result"
    }
   ],
   "source": [
    "# Exercise 2 - create a variable named capitalized_fruits and use list comprehension\n",
    "# syntax to produce output like ['Mango', 'Kiwi', 'Strawberry', etc...]\n",
    "capitalized_fruits = [fruit.capitalize() for fruit in fruits]\n",
    "capitalized_fruits"
   ]
  },
  {
   "cell_type": "code",
   "execution_count": 47,
   "id": "1f2af513",
   "metadata": {},
   "outputs": [
    {
     "data": {
      "text/plain": [
       "['mango', 'kiwi', 'strawberry', 'guava', 'pineapple', 'mandarin orange']"
      ]
     },
     "execution_count": 47,
     "metadata": {},
     "output_type": "execute_result"
    }
   ],
   "source": [
    "# Exercise 3 - Use a list comprehension to make a variable named fruits_with_more_than_two_vowels.\n",
    "# Hint: You'll need a way to check if something is a vowel.\n",
    "vowel = 'aeiouAEIOU'\n",
    "fruits_with_more_than_two_vowels = [fruit for fruit in fruits if\n",
    "                                     sum(fruit.count(vowel) for vowel in 'aeiouAEIOU') >= 2]\n",
    "fruits_with_more_than_two_vowels"
   ]
  },
  {
   "cell_type": "code",
   "execution_count": 48,
   "id": "e4186c4e",
   "metadata": {},
   "outputs": [
    {
     "data": {
      "text/plain": [
       "['mango', 'kiwi', 'strawberry']"
      ]
     },
     "execution_count": 48,
     "metadata": {},
     "output_type": "execute_result"
    }
   ],
   "source": [
    "# Exercise 4 - make a variable named fruits_with_only_two_vowels.\n",
    "# The result should be ['mango', 'kiwi', 'strawberry']\n",
    "fruits_with_only_two_vowels = [fruit for fruit in fruits if\n",
    "                                     sum(fruit.count(vowel) for vowel in 'aeiouAEIOU') == 2]\n",
    "fruits_with_only_two_vowels"
   ]
  },
  {
   "cell_type": "code",
   "execution_count": 49,
   "id": "0133815c",
   "metadata": {},
   "outputs": [
    {
     "data": {
      "text/plain": [
       "['strawberry', 'pineapple', 'mandarin orange']"
      ]
     },
     "execution_count": 49,
     "metadata": {},
     "output_type": "execute_result"
    }
   ],
   "source": [
    "# Exercise 5 - make a list that contains each fruit with more than 5 characters\n",
    "[fruit for fruit in fruits if len(fruit) > 5]"
   ]
  },
  {
   "cell_type": "code",
   "execution_count": 50,
   "id": "b9bf2758",
   "metadata": {},
   "outputs": [
    {
     "data": {
      "text/plain": [
       "['mango', 'guava']"
      ]
     },
     "execution_count": 50,
     "metadata": {},
     "output_type": "execute_result"
    }
   ],
   "source": [
    "# Exercise 6 - make a list that contains each fruit with exactly 5 characters\n",
    "[fruit for fruit in fruits if len(fruit) == 5]"
   ]
  },
  {
   "cell_type": "code",
   "execution_count": 51,
   "id": "981d03ee",
   "metadata": {},
   "outputs": [
    {
     "data": {
      "text/plain": [
       "['kiwi']"
      ]
     },
     "execution_count": 51,
     "metadata": {},
     "output_type": "execute_result"
    }
   ],
   "source": [
    "# Exercise 7 - Make a list that contains fruits that have less than 5 characters\n",
    "[fruit for fruit in fruits if len(fruit) < 5]"
   ]
  },
  {
   "cell_type": "code",
   "execution_count": 52,
   "id": "064b6eb3",
   "metadata": {},
   "outputs": [
    {
     "data": {
      "text/plain": [
       "[5, 4, 10, 5, 9, 15]"
      ]
     },
     "execution_count": 52,
     "metadata": {},
     "output_type": "execute_result"
    }
   ],
   "source": [
    "# Exercise 8 - Make a list containing the number of characters in each fruit.\n",
    "# Output would be [5, 4, 10, etc... ]\n",
    "\n",
    "[len(fruit) for fruit in fruits]"
   ]
  },
  {
   "cell_type": "code",
   "execution_count": 53,
   "id": "f212edbc",
   "metadata": {},
   "outputs": [
    {
     "data": {
      "text/plain": [
       "['mango', 'kiwi', 'strawberry', 'guava', 'pineapple', 'mandarin orange']"
      ]
     },
     "execution_count": 53,
     "metadata": {},
     "output_type": "execute_result"
    }
   ],
   "source": [
    "# Exercise 9 - Make a variable named fruits_with_letter_a that contains\n",
    "# a list of only the fruits that contain the letter \"a\"\n",
    "fruits_with_letter_a = [fruit for fruit in fruits if fruit.find('a')]\n",
    "fruits_with_letter_a"
   ]
  },
  {
   "cell_type": "code",
   "execution_count": null,
   "id": "d5ae16ff",
   "metadata": {},
   "outputs": [],
   "source": [
    "# Exercise 10 - Make a variable named even_numbers that holds only the even numbers \n"
   ]
  },
  {
   "cell_type": "code",
   "execution_count": null,
   "id": "49c771c5",
   "metadata": {},
   "outputs": [],
   "source": [
    "# Exercise 11 - Make a variable named odd_numbers that holds only the odd numbers\n"
   ]
  },
  {
   "cell_type": "code",
   "execution_count": null,
   "id": "a20d8af0",
   "metadata": {},
   "outputs": [],
   "source": [
    "# Exercise 12 - Make a variable named positive_numbers that holds only the positive numbers\n"
   ]
  },
  {
   "cell_type": "code",
   "execution_count": null,
   "id": "842a090f",
   "metadata": {},
   "outputs": [],
   "source": [
    "# Exercise 13 - Make a variable named negative_numbers that holds only the negative numbers\n"
   ]
  },
  {
   "cell_type": "code",
   "execution_count": null,
   "id": "afa1b85f",
   "metadata": {},
   "outputs": [],
   "source": [
    "# Exercise 14 - use a list comprehension w/ a conditional in order to produce\n",
    "# a list of numbers with 2 or more numerals\n"
   ]
  },
  {
   "cell_type": "code",
   "execution_count": null,
   "id": "7563ffee",
   "metadata": {},
   "outputs": [],
   "source": [
    "# Exercise 15 - Make a variable named numbers_squared that contains the numbers\n",
    "# list with each element squared. Output is [4, 9, 16, etc...]\n"
   ]
  },
  {
   "cell_type": "code",
   "execution_count": null,
   "id": "7fd8f909",
   "metadata": {},
   "outputs": [],
   "source": [
    "# Exercise 15 - Make a variable named numbers_squared that contains the numbers\n",
    "# list with each element squared. Output is [4, 9, 16, etc...]\n"
   ]
  },
  {
   "cell_type": "code",
   "execution_count": null,
   "id": "c808040f",
   "metadata": {},
   "outputs": [],
   "source": [
    "# Exercise 16 - Make a variable named odd_negative_numbers that contains only \n",
    "# the numbers that are both odd and negative.\n"
   ]
  },
  {
   "cell_type": "code",
   "execution_count": null,
   "id": "4fcce1b3",
   "metadata": {},
   "outputs": [],
   "source": [
    "# Exercise 17 - Make a variable named numbers_plus_5. In it, return a list\n",
    "# containing each number plus five.\n"
   ]
  },
  {
   "cell_type": "code",
   "execution_count": null,
   "id": "db903338",
   "metadata": {},
   "outputs": [],
   "source": [
    "# BONUS Make a variable named \"primes\" that is a list containing the prime numbers \n",
    "# in the numbers list. *Hint* you may want to make or find a helper function\n",
    "# that determines if a given number is prime or not.\n"
   ]
  },
  {
   "cell_type": "markdown",
   "id": "105a3392",
   "metadata": {},
   "source": [
    "For even more practice with all your Python tools together, work through [20 Python Data Structure Manipulation Exercises](https://gist.github.com/zgulde/2043cba6072fe5b55b272513ae575577)\n",
    "\n",
    "The following questions reference the `students` data structure below. Write the python code to answer the following questions:"
   ]
  },
  {
   "cell_type": "code",
   "execution_count": null,
   "id": "cd3a6fb6",
   "metadata": {},
   "outputs": [],
   "source": [
    "students = [\n",
    "    {\n",
    "        \"id\": \"100001\",\n",
    "        \"student\": \"Ada Lovelace\",\n",
    "        \"coffee_preference\": \"light\",\n",
    "        \"course\": \"web development\",\n",
    "        \"grades\": [70, 91, 82, 71],\n",
    "        \"pets\": [{\"species\": \"horse\", \"age\": 8}],\n",
    "    },\n",
    "    {\n",
    "        \"id\": \"100002\",\n",
    "        \"student\": \"Thomas Bayes\",\n",
    "        \"coffee_preference\": \"medium\",\n",
    "        \"course\": \"data science\",\n",
    "        \"grades\": [75, 73, 86, 100],\n",
    "        \"pets\": [],\n",
    "    },\n",
    "    {\n",
    "        \"id\": \"100003\",\n",
    "        \"student\": \"Marie Curie\",\n",
    "        \"coffee_preference\": \"light\",\n",
    "        \"course\": \"web development\",\n",
    "        \"grades\": [70, 89, 69, 65],\n",
    "        \"pets\": [{\"species\": \"cat\", \"age\": 0}],\n",
    "    },\n",
    "    {\n",
    "        \"id\": \"100004\",\n",
    "        \"student\": \"Grace Hopper\",\n",
    "        \"coffee_preference\": \"dark\",\n",
    "        \"course\": \"data science\",\n",
    "        \"grades\": [73, 66, 83, 92],\n",
    "        \"pets\": [{\"species\": \"dog\", \"age\": 4}, {\"species\": \"cat\", \"age\": 4}],\n",
    "    },\n",
    "    {\n",
    "        \"id\": \"100005\",\n",
    "        \"student\": \"Alan Turing\",\n",
    "        \"coffee_preference\": \"dark\",\n",
    "        \"course\": \"web development\",\n",
    "        \"grades\": [78, 98, 85, 65],\n",
    "        \"pets\": [\n",
    "            {\"species\": \"horse\", \"age\": 6},\n",
    "            {\"species\": \"horse\", \"age\": 7},\n",
    "            {\"species\": \"dog\", \"age\": 5},\n",
    "        ],\n",
    "    },\n",
    "    {\n",
    "        \"id\": \"100006\",\n",
    "        \"student\": \"Rosalind Franklin\",\n",
    "        \"coffee_preference\": \"dark\",\n",
    "        \"course\": \"data science\",\n",
    "        \"grades\": [76, 70, 96, 81],\n",
    "        \"pets\": [],\n",
    "    },\n",
    "    {\n",
    "        \"id\": \"100007\",\n",
    "        \"student\": \"Elizabeth Blackwell\",\n",
    "        \"coffee_preference\": \"dark\",\n",
    "        \"course\": \"web development\",\n",
    "        \"grades\": [69, 94, 89, 86],\n",
    "        \"pets\": [{\"species\": \"cat\", \"age\": 10}],\n",
    "    },\n",
    "    {\n",
    "        \"id\": \"100008\",\n",
    "        \"student\": \"Rene Descartes\",\n",
    "        \"coffee_preference\": \"medium\",\n",
    "        \"course\": \"data science\",\n",
    "        \"grades\": [87, 79, 90, 99],\n",
    "        \"pets\": [{\"species\": \"cat\", \"age\": 10}, {\"species\": \"cat\", \"age\": 8}],\n",
    "    },\n",
    "    {\n",
    "        \"id\": \"100009\",\n",
    "        \"student\": \"Ahmed Zewail\",\n",
    "        \"coffee_preference\": \"medium\",\n",
    "        \"course\": \"data science\",\n",
    "        \"grades\": [74, 99, 93, 89],\n",
    "        \"pets\": [{\"species\": \"cat\", \"age\": 0}, {\"species\": \"cat\", \"age\": 0}],\n",
    "    },\n",
    "    {\n",
    "        \"id\": \"100010\",\n",
    "        \"student\": \"Chien-Shiung Wu\",\n",
    "        \"coffee_preference\": \"medium\",\n",
    "        \"course\": \"web development\",\n",
    "        \"grades\": [82, 92, 91, 65],\n",
    "        \"pets\": [{\"species\": \"cat\", \"age\": 8}],\n",
    "    },\n",
    "    {\n",
    "        \"id\": \"100011\",\n",
    "        \"student\": \"William Sanford Nye\",\n",
    "        \"coffee_preference\": \"dark\",\n",
    "        \"course\": \"data science\",\n",
    "        \"grades\": [70, 92, 65, 99],\n",
    "        \"pets\": [{\"species\": \"cat\", \"age\": 8}, {\"species\": \"cat\", \"age\": 5}],\n",
    "    },\n",
    "    {\n",
    "        \"id\": \"100012\",\n",
    "        \"student\": \"Carl Sagan\",\n",
    "        \"coffee_preference\": \"medium\",\n",
    "        \"course\": \"data science\",\n",
    "        \"grades\": [100, 86, 91, 87],\n",
    "        \"pets\": [{\"species\": \"cat\", \"age\": 10}],\n",
    "    },\n",
    "    {\n",
    "        \"id\": \"100013\",\n",
    "        \"student\": \"Jane Goodall\",\n",
    "        \"coffee_preference\": \"light\",\n",
    "        \"course\": \"web development\",\n",
    "        \"grades\": [80, 70, 68, 98],\n",
    "        \"pets\": [{\"species\": \"horse\", \"age\": 4}],\n",
    "    },\n",
    "    {\n",
    "        \"id\": \"100014\",\n",
    "        \"student\": \"Richard Feynman\",\n",
    "        \"coffee_preference\": \"medium\",\n",
    "        \"course\": \"web development\",\n",
    "        \"grades\": [73, 99, 86, 98],\n",
    "        \"pets\": [{\"species\": \"dog\", \"age\": 6}],\n",
    "    },\n",
    "]"
   ]
  },
  {
   "cell_type": "code",
   "execution_count": null,
   "id": "c9a127ef",
   "metadata": {},
   "outputs": [],
   "source": [
    "# How many students are there?\n",
    "\n",
    "\n",
    "# How many students prefer light coffee? For each type of coffee roast?\n",
    "\n",
    "\n",
    "# How many types of each pet are there?\n",
    "\n",
    "\n",
    "# How many grades does each student have? Do they all have the same number of grades?\n",
    "\n",
    "\n",
    "# What is each student's grade average?\n",
    "\n",
    "\n",
    "# How many pets does each student have?\n",
    "\n",
    "\n",
    "# How many students are in web development? data science?\n",
    "\n",
    "\n",
    "# What is the average number of pets for students in web development?\n",
    "\n",
    "\n",
    "# What is the average pet age for students in data science?\n",
    "\n",
    "\n",
    "# What is most frequent coffee preference for data science students?\n",
    "\n",
    "\n",
    "# What is the least frequent coffee preference for web development students?\n",
    "\n",
    "\n",
    "# What is the average grade for students with at least 2 pets?\n",
    "\n",
    "\n",
    "# How many students have 3 pets?\n",
    "\n",
    "\n",
    "# What is the average grade for students with 0 pets?\n",
    "\n",
    "\n",
    "# What is the average grade for web development students? data science students?\n",
    "\n",
    "\n",
    "# What is the average grade range (i.e. highest grade - lowest grade) for dark coffee drinkers?\n",
    "\n",
    "\n",
    "# What is the average number of pets for medium coffee drinkers?\n",
    "\n",
    "\n",
    "# What is the most common type of pet for web development students?\n",
    "\n",
    "\n",
    "# What is the average name length?\n",
    "\n",
    "\n",
    "# What is the highest pet age for light coffee drinkers?\n",
    "\n"
   ]
  }
 ],
 "metadata": {
  "kernelspec": {
   "display_name": "Python 3 (ipykernel)",
   "language": "python",
   "name": "python3"
  },
  "language_info": {
   "codemirror_mode": {
    "name": "ipython",
    "version": 3
   },
   "file_extension": ".py",
   "mimetype": "text/x-python",
   "name": "python",
   "nbconvert_exporter": "python",
   "pygments_lexer": "ipython3",
   "version": "3.10.9"
  },
  "varInspector": {
   "cols": {
    "lenName": 16,
    "lenType": 16,
    "lenVar": 40
   },
   "kernels_config": {
    "python": {
     "delete_cmd_postfix": "",
     "delete_cmd_prefix": "del ",
     "library": "var_list.py",
     "varRefreshCmd": "print(var_dic_list())"
    },
    "r": {
     "delete_cmd_postfix": ") ",
     "delete_cmd_prefix": "rm(",
     "library": "var_list.r",
     "varRefreshCmd": "cat(var_dic_list()) "
    }
   },
   "types_to_exclude": [
    "module",
    "function",
    "builtin_function_or_method",
    "instance",
    "_Feature"
   ],
   "window_display": false
  }
 },
 "nbformat": 4,
 "nbformat_minor": 5
}
