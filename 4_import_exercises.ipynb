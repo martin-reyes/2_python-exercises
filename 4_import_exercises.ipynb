{
 "cells": [
  {
   "cell_type": "markdown",
   "id": "367dc4ca",
   "metadata": {},
   "source": [
    "1. Import and test 3 of the functions from your functions exercise file. Import each function in a different way:\n",
    "\n",
    "    - Run an interactive python session and import the module. Call the `is_vowel` function using the `.` syntax.\n",
    "    - Create a file named `import_exericses.py`. Within this file, use from to import the `calculate_tip` function directly. Call this function with values you choose and print the result.\n",
    "    - Create a jupyter notebook named `import_exercises.ipynb`. Use from to import the `get_letter_grade` function and give it an alias. Test this function in your notebook.\n",
    "\n",
    "    Make sure your code that tests the function imports is run from the same directory that your functions exercise file is in.\n"
   ]
  },
  {
   "cell_type": "markdown",
   "id": "2a2fe818",
   "metadata": {},
   "source": []
  },
  {
   "cell_type": "code",
   "execution_count": null,
   "id": "25f7b826",
   "metadata": {},
   "outputs": [],
   "source": []
  },
  {
   "cell_type": "markdown",
   "id": "e38b5d36",
   "metadata": {},
   "source": []
  },
  {
   "cell_type": "code",
   "execution_count": null,
   "id": "3548a93d",
   "metadata": {},
   "outputs": [],
   "source": []
  },
  {
   "cell_type": "markdown",
   "id": "46be610e",
   "metadata": {},
   "source": [
    "2. Read about and use the `itertools` module from the python standard library to help you solve the following problems. Note: Many of these functions in this library return an object, to see the results of the function, cast this object as a list.\n",
    "\n",
    "    - How many different ways can you combine a single letter from \"abc\" with either 1, 2, or 3?\n",
    "    - How many different combinations are there of 2 letters from \"abcd\"?\n",
    "    - How many different permutations are there of 2 letters from \"abcd\"?"
   ]
  },
  {
   "cell_type": "code",
   "execution_count": null,
   "id": "1eb40de6",
   "metadata": {},
   "outputs": [],
   "source": []
  },
  {
   "cell_type": "markdown",
   "id": "cdd912e9",
   "metadata": {},
   "source": [
    "3. Save this file as `profiles.json` inside of your exercises directory (right click -> save file as...).\n",
    "\n",
    "    Use the `load` function from the `json` module to open this file.\n",
    "\n",
    "```\n",
    "import json\n",
    "\n",
    "json.load(open('profiles.json'))\n",
    "```\n",
    "\n",
    "Your code should produce a list of dictionaries. Using this data, write some code that calculates and outputs the following information:\n",
    "\n",
    "- Total number of users\n",
    "- Number of active users\n",
    "- Number of inactive users\n",
    "- Grand total of balances for all users\n",
    "- Average balance per user\n",
    "- User with the lowest balance\n",
    "- User with the highest balance\n",
    "- Most common favorite fruit\n",
    "- Least most common favorite fruit\n",
    "- Total number of unread messages for all users"
   ]
  },
  {
   "cell_type": "code",
   "execution_count": null,
   "id": "7f1752a2",
   "metadata": {},
   "outputs": [],
   "source": []
  }
 ],
 "metadata": {
  "kernelspec": {
   "display_name": "Python 3 (ipykernel)",
   "language": "python",
   "name": "python3"
  },
  "language_info": {
   "codemirror_mode": {
    "name": "ipython",
    "version": 3
   },
   "file_extension": ".py",
   "mimetype": "text/x-python",
   "name": "python",
   "nbconvert_exporter": "python",
   "pygments_lexer": "ipython3",
   "version": "3.9.12"
  }
 },
 "nbformat": 4,
 "nbformat_minor": 5
}
