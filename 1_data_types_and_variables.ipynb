{
 "cells": [
  {
   "cell_type": "markdown",
   "id": "154fe903",
   "metadata": {},
   "source": [
    "# Strings Data Types and Exercises\n",
    "\n",
    "#### String Formatting"
   ]
  },
  {
   "cell_type": "code",
   "execution_count": 1,
   "id": "d9acb983",
   "metadata": {},
   "outputs": [
    {
     "name": "stdout",
     "output_type": "stream",
     "text": [
      "Hello, World!\n",
      "Hello, World!\n",
      "Hello, World!\n"
     ]
    }
   ],
   "source": [
    "name = 'World'\n",
    "str1 = 'Hello, %s!' % name\n",
    "print('Hello, %s!' % name)\n",
    "str2 = 'Hello, {}!'.format(name)\n",
    "print('Hello, %s!' % name)\n",
    "str3 = f'Hello {name}!'\n",
    "print('Hello, %s!' % name)"
   ]
  },
  {
   "cell_type": "markdown",
   "id": "7539716b",
   "metadata": {},
   "source": [
    "#### [String Methods](https://www.w3schools.com/python/python_ref_string.asp)\n",
    "\n",
    "#### [List Methods](https://www.w3schools.com/python/python_ref_list.asp)"
   ]
  },
  {
   "cell_type": "markdown",
   "id": "c4ee5c0c",
   "metadata": {},
   "source": [
    "1. Create a Python script file named data_types_and_variables.py or data_types_and_variables.ipynb.\n",
    "\n",
    "    Identify the data type of the following values:"
   ]
  },
  {
   "cell_type": "code",
   "execution_count": null,
   "id": "38450758",
   "metadata": {},
   "outputs": [],
   "source": [
    "99.9 #float\n",
    "\n",
    "\"False\" #string\n",
    "\n",
    "False #boolean\n",
    "\n",
    "'0' #string\n",
    "\n",
    "0 #int\n",
    "\n",
    "True #boolean\n",
    "\n",
    "'True' #string\n",
    "\n",
    "[{}] #list with dict\n",
    "\n",
    "{'a': []} #dict with string key and list value"
   ]
  },
  {
   "cell_type": "markdown",
   "id": "aed9fb1b",
   "metadata": {},
   "source": [
    "2. What data type would best represent the following?\n",
    "\n",
    "    - A term or phrase typed into a search box\n",
    "        - **string**\n",
    "    - Whether or not a user is logged in\n",
    "        - **boolean**\n",
    "    - A discount amount to apply to a user's shopping cart\n",
    "        - **float/int**\n",
    "    - Whether or not a coupon code is valid\n",
    "        - **boolean**\n",
    "    - An email address typed into a registration form\n",
    "        - **string**\n",
    "    - The price of a product\n",
    "        - **float**\n",
    "    - The email addresses collected from a registration form\n",
    "        - **list**\n",
    "    - Information about applicants to Codeup's data science program\n",
    "        - **dict**"
   ]
  },
  {
   "cell_type": "markdown",
   "id": "0cc21d2a",
   "metadata": {},
   "source": [
    "3. For each of the following code blocks:\n",
    "\n",
    "    - Read the expression and predict the evaluated results\n",
    "    - Execute the expression in a Python REPL."
   ]
  },
  {
   "cell_type": "code",
   "execution_count": 2,
   "id": "f3fc11ae",
   "metadata": {},
   "outputs": [
    {
     "ename": "TypeError",
     "evalue": "can only concatenate str (not \"int\") to str",
     "output_type": "error",
     "traceback": [
      "\u001b[0;31m---------------------------------------------------------------------------\u001b[0m",
      "\u001b[0;31mTypeError\u001b[0m                                 Traceback (most recent call last)",
      "Input \u001b[0;32mIn [2]\u001b[0m, in \u001b[0;36m<cell line: 1>\u001b[0;34m()\u001b[0m\n\u001b[0;32m----> 1\u001b[0m \u001b[38;5;124;43m'\u001b[39;49m\u001b[38;5;124;43m1\u001b[39;49m\u001b[38;5;124;43m'\u001b[39;49m\u001b[43m \u001b[49m\u001b[38;5;241;43m+\u001b[39;49m\u001b[43m \u001b[49m\u001b[38;5;241;43m2\u001b[39;49m\n",
      "\u001b[0;31mTypeError\u001b[0m: can only concatenate str (not \"int\") to str"
     ]
    }
   ],
   "source": [
    "'1' + 2 # error"
   ]
  },
  {
   "cell_type": "code",
   "execution_count": 3,
   "id": "9260dc23",
   "metadata": {},
   "outputs": [
    {
     "data": {
      "text/plain": [
       "2"
      ]
     },
     "execution_count": 3,
     "metadata": {},
     "output_type": "execute_result"
    }
   ],
   "source": [
    "6 % 4 # 2"
   ]
  },
  {
   "cell_type": "code",
   "execution_count": 4,
   "id": "4e0cac13",
   "metadata": {},
   "outputs": [
    {
     "data": {
      "text/plain": [
       "int"
      ]
     },
     "execution_count": 4,
     "metadata": {},
     "output_type": "execute_result"
    }
   ],
   "source": [
    "type(6 % 4) # int"
   ]
  },
  {
   "cell_type": "code",
   "execution_count": 5,
   "id": "ea5dd8b3",
   "metadata": {},
   "outputs": [
    {
     "data": {
      "text/plain": [
       "type"
      ]
     },
     "execution_count": 5,
     "metadata": {},
     "output_type": "execute_result"
    }
   ],
   "source": [
    "type(type(6 % 4)) #int"
   ]
  },
  {
   "cell_type": "code",
   "execution_count": 6,
   "id": "8e8c6524",
   "metadata": {},
   "outputs": [
    {
     "ename": "TypeError",
     "evalue": "can only concatenate str (not \"int\") to str",
     "output_type": "error",
     "traceback": [
      "\u001b[0;31m---------------------------------------------------------------------------\u001b[0m",
      "\u001b[0;31mTypeError\u001b[0m                                 Traceback (most recent call last)",
      "Input \u001b[0;32mIn [6]\u001b[0m, in \u001b[0;36m<cell line: 1>\u001b[0;34m()\u001b[0m\n\u001b[0;32m----> 1\u001b[0m \u001b[38;5;124;43m'\u001b[39;49m\u001b[38;5;124;43m3 + 4 is \u001b[39;49m\u001b[38;5;124;43m'\u001b[39;49m\u001b[43m \u001b[49m\u001b[38;5;241;43m+\u001b[39;49m\u001b[43m \u001b[49m\u001b[38;5;241;43m3\u001b[39;49m \u001b[38;5;241m+\u001b[39m \u001b[38;5;241m4\u001b[39m\n",
      "\u001b[0;31mTypeError\u001b[0m: can only concatenate str (not \"int\") to str"
     ]
    }
   ],
   "source": [
    "'3 + 4 is ' + 3 + 4 # error"
   ]
  },
  {
   "cell_type": "code",
   "execution_count": 7,
   "id": "1b313a84",
   "metadata": {},
   "outputs": [
    {
     "data": {
      "text/plain": [
       "False"
      ]
     },
     "execution_count": 7,
     "metadata": {},
     "output_type": "execute_result"
    }
   ],
   "source": [
    "0 < 0 # False"
   ]
  },
  {
   "cell_type": "code",
   "execution_count": 8,
   "id": "8047f05c",
   "metadata": {},
   "outputs": [
    {
     "data": {
      "text/plain": [
       "False"
      ]
     },
     "execution_count": 8,
     "metadata": {},
     "output_type": "execute_result"
    }
   ],
   "source": [
    "'False' == False # False"
   ]
  },
  {
   "cell_type": "code",
   "execution_count": 9,
   "id": "1a56970c",
   "metadata": {},
   "outputs": [
    {
     "data": {
      "text/plain": [
       "False"
      ]
     },
     "execution_count": 9,
     "metadata": {},
     "output_type": "execute_result"
    }
   ],
   "source": [
    "True == 'True' # False"
   ]
  },
  {
   "cell_type": "code",
   "execution_count": 10,
   "id": "d788f488",
   "metadata": {},
   "outputs": [
    {
     "data": {
      "text/plain": [
       "True"
      ]
     },
     "execution_count": 10,
     "metadata": {},
     "output_type": "execute_result"
    }
   ],
   "source": [
    "5 >= -5 # True"
   ]
  },
  {
   "cell_type": "code",
   "execution_count": 11,
   "id": "c52dcfc3",
   "metadata": {},
   "outputs": [
    {
     "data": {
      "text/plain": [
       "True"
      ]
     },
     "execution_count": 11,
     "metadata": {},
     "output_type": "execute_result"
    }
   ],
   "source": [
    "True or \"42\" # True"
   ]
  },
  {
   "cell_type": "code",
   "execution_count": 12,
   "id": "1ad992a4",
   "metadata": {},
   "outputs": [
    {
     "data": {
      "text/plain": [
       "1"
      ]
     },
     "execution_count": 12,
     "metadata": {},
     "output_type": "execute_result"
    }
   ],
   "source": [
    "6 % 5 # 1"
   ]
  },
  {
   "cell_type": "code",
   "execution_count": 13,
   "id": "e8dc52f2",
   "metadata": {},
   "outputs": [
    {
     "data": {
      "text/plain": [
       "False"
      ]
     },
     "execution_count": 13,
     "metadata": {},
     "output_type": "execute_result"
    }
   ],
   "source": [
    "5 < 4 and 1 == 1 # False"
   ]
  },
  {
   "cell_type": "code",
   "execution_count": 14,
   "id": "af014441",
   "metadata": {},
   "outputs": [
    {
     "data": {
      "text/plain": [
       "False"
      ]
     },
     "execution_count": 14,
     "metadata": {},
     "output_type": "execute_result"
    }
   ],
   "source": [
    "'codeup' == 'codeup' and 'codeup' == 'Codeup' # False"
   ]
  },
  {
   "cell_type": "code",
   "execution_count": 16,
   "id": "f7b2328a",
   "metadata": {},
   "outputs": [
    {
     "data": {
      "text/plain": [
       "True"
      ]
     },
     "execution_count": 16,
     "metadata": {},
     "output_type": "execute_result"
    }
   ],
   "source": [
    "4 >= 0 and 1 != '1'# True"
   ]
  },
  {
   "cell_type": "code",
   "execution_count": 17,
   "id": "0231f79a",
   "metadata": {},
   "outputs": [
    {
     "data": {
      "text/plain": [
       "True"
      ]
     },
     "execution_count": 17,
     "metadata": {},
     "output_type": "execute_result"
    }
   ],
   "source": [
    "6 % 3 == 0 # True"
   ]
  },
  {
   "cell_type": "code",
   "execution_count": 27,
   "id": "f49aedab",
   "metadata": {},
   "outputs": [
    {
     "data": {
      "text/plain": [
       "True"
      ]
     },
     "execution_count": 27,
     "metadata": {},
     "output_type": "execute_result"
    }
   ],
   "source": [
    "5 % 2 != 0 # True"
   ]
  },
  {
   "cell_type": "code",
   "execution_count": 25,
   "id": "bca222e7",
   "metadata": {},
   "outputs": [
    {
     "ename": "TypeError",
     "evalue": "can only concatenate list (not \"int\") to list",
     "output_type": "error",
     "traceback": [
      "\u001b[0;31m---------------------------------------------------------------------------\u001b[0m",
      "\u001b[0;31mTypeError\u001b[0m                                 Traceback (most recent call last)",
      "Input \u001b[0;32mIn [25]\u001b[0m, in \u001b[0;36m<cell line: 1>\u001b[0;34m()\u001b[0m\n\u001b[0;32m----> 1\u001b[0m \u001b[43m[\u001b[49m\u001b[38;5;241;43m1\u001b[39;49m\u001b[43m]\u001b[49m\u001b[43m \u001b[49m\u001b[38;5;241;43m+\u001b[39;49m\u001b[43m \u001b[49m\u001b[38;5;241;43m2\u001b[39;49m\n",
      "\u001b[0;31mTypeError\u001b[0m: can only concatenate list (not \"int\") to list"
     ]
    }
   ],
   "source": [
    "[1] + 2 # error"
   ]
  },
  {
   "cell_type": "code",
   "execution_count": 24,
   "id": "4264844b",
   "metadata": {},
   "outputs": [
    {
     "data": {
      "text/plain": [
       "[1, 2]"
      ]
     },
     "execution_count": 24,
     "metadata": {},
     "output_type": "execute_result"
    }
   ],
   "source": [
    "[1] + [2] # [1, 2]"
   ]
  },
  {
   "cell_type": "code",
   "execution_count": 23,
   "id": "6c3c11e3",
   "metadata": {},
   "outputs": [
    {
     "data": {
      "text/plain": [
       "[1, 1]"
      ]
     },
     "execution_count": 23,
     "metadata": {},
     "output_type": "execute_result"
    }
   ],
   "source": [
    "[1] * 2 # [1, 1]"
   ]
  },
  {
   "cell_type": "code",
   "execution_count": 22,
   "id": "c8f36132",
   "metadata": {},
   "outputs": [
    {
     "ename": "TypeError",
     "evalue": "can't multiply sequence by non-int of type 'list'",
     "output_type": "error",
     "traceback": [
      "\u001b[0;31m---------------------------------------------------------------------------\u001b[0m",
      "\u001b[0;31mTypeError\u001b[0m                                 Traceback (most recent call last)",
      "Input \u001b[0;32mIn [22]\u001b[0m, in \u001b[0;36m<cell line: 1>\u001b[0;34m()\u001b[0m\n\u001b[0;32m----> 1\u001b[0m \u001b[43m[\u001b[49m\u001b[38;5;241;43m1\u001b[39;49m\u001b[43m]\u001b[49m\u001b[43m \u001b[49m\u001b[38;5;241;43m*\u001b[39;49m\u001b[43m \u001b[49m\u001b[43m[\u001b[49m\u001b[38;5;241;43m2\u001b[39;49m\u001b[43m]\u001b[49m\n",
      "\u001b[0;31mTypeError\u001b[0m: can't multiply sequence by non-int of type 'list'"
     ]
    }
   ],
   "source": [
    "[1] * [2] # error"
   ]
  },
  {
   "cell_type": "code",
   "execution_count": 19,
   "id": "447e9818",
   "metadata": {},
   "outputs": [
    {
     "data": {
      "text/plain": [
       "True"
      ]
     },
     "execution_count": 19,
     "metadata": {},
     "output_type": "execute_result"
    }
   ],
   "source": [
    "[] + [] == [] # True"
   ]
  },
  {
   "cell_type": "code",
   "execution_count": 20,
   "id": "49b118a1",
   "metadata": {},
   "outputs": [
    {
     "ename": "TypeError",
     "evalue": "unsupported operand type(s) for +: 'dict' and 'dict'",
     "output_type": "error",
     "traceback": [
      "\u001b[0;31m---------------------------------------------------------------------------\u001b[0m",
      "\u001b[0;31mTypeError\u001b[0m                                 Traceback (most recent call last)",
      "Input \u001b[0;32mIn [20]\u001b[0m, in \u001b[0;36m<cell line: 1>\u001b[0;34m()\u001b[0m\n\u001b[0;32m----> 1\u001b[0m \u001b[43m{\u001b[49m\u001b[43m}\u001b[49m\u001b[43m \u001b[49m\u001b[38;5;241;43m+\u001b[39;49m\u001b[43m \u001b[49m\u001b[43m{\u001b[49m\u001b[43m}\u001b[49m\n",
      "\u001b[0;31mTypeError\u001b[0m: unsupported operand type(s) for +: 'dict' and 'dict'"
     ]
    }
   ],
   "source": [
    "{} + {} # {}"
   ]
  },
  {
   "cell_type": "markdown",
   "id": "f20481e4",
   "metadata": {},
   "source": [
    "4. Describe the following scenarios. You will need to create and assign variables and use operators."
   ]
  },
  {
   "cell_type": "markdown",
   "id": "92786af5",
   "metadata": {},
   "source": [
    "5. You have rented some movies for your kids:\n",
    "\n",
    "    - The Little Mermaid for 3 days\n",
    "    - Brother Bear for 5 days\n",
    "    - Hercules for 1 day\n",
    "    - If the daily fee to rent a movie is 3 dollars, how much will you have to pay?"
   ]
  },
  {
   "cell_type": "code",
   "execution_count": 3,
   "id": "12fab1e4",
   "metadata": {},
   "outputs": [
    {
     "data": {
      "text/plain": [
       "27"
      ]
     },
     "execution_count": 3,
     "metadata": {},
     "output_type": "execute_result"
    }
   ],
   "source": [
    "little_mermaid = 3\n",
    "brother_bear = 5\n",
    "hercules = 1\n",
    "daily_fee = 3\n",
    "total_fee = daily_fee * (little_mermaid + brother_bear + hercules)\n",
    "total_fee"
   ]
  },
  {
   "cell_type": "markdown",
   "id": "1c7da421",
   "metadata": {},
   "source": [
    "6. Suppose you're working as a contractor for 3 companies: Google, Amazon and Facebook.\n",
    "\n",
    "    They pay you the following hourly rates:\n",
    "\n",
    "    - Google: 400 dollars\n",
    "    - Amazon: 380 dollars\n",
    "    - Facebook: 350 dollars\n",
    "    \n",
    "    This week you worked: 10 hours for Facebook, 6 hours for Google and 4 hours for Amazon.\n",
    "\n",
    "    How much will you receive in payment for this week?"
   ]
  },
  {
   "cell_type": "code",
   "execution_count": 8,
   "id": "a93ade26",
   "metadata": {},
   "outputs": [
    {
     "data": {
      "text/plain": [
       "7420"
      ]
     },
     "execution_count": 8,
     "metadata": {},
     "output_type": "execute_result"
    }
   ],
   "source": [
    "Goo_rate = 400\n",
    "Ama_rate = 380\n",
    "FB_rate = 350\n",
    "Goo_hrs = 6\n",
    "Ama_hrs = 4\n",
    "FB_hrs = 10\n",
    "pay_received = ((Goo_rate * Goo_hrs) \n",
    "                + (Ama_rate * Ama_hrs)\n",
    "                + (FB_rate * FB_hrs))\n",
    "pay_received #7420"
   ]
  },
  {
   "cell_type": "markdown",
   "id": "c94351eb",
   "metadata": {},
   "source": [
    "7. A student can be enrolled to a class only if the class is not full and the class schedule does not conflict with her current schedule."
   ]
  },
  {
   "cell_type": "code",
   "execution_count": null,
   "id": "732b404e",
   "metadata": {},
   "outputs": [],
   "source": [
    "is_class_full = True\n",
    "\n",
    "# not sure how I'd check if the class schedules conflivt yet"
   ]
  },
  {
   "cell_type": "markdown",
   "id": "0aef02ff",
   "metadata": {},
   "source": [
    "8. A product offer can be applied only if people buys more than 2 items, and the offer has not expired. Premium members do not need to buy a specific amount of products."
   ]
  },
  {
   "cell_type": "code",
   "execution_count": 26,
   "id": "e6d2bc9b",
   "metadata": {},
   "outputs": [
    {
     "data": {
      "text/plain": [
       "True"
      ]
     },
     "execution_count": 26,
     "metadata": {},
     "output_type": "execute_result"
    }
   ],
   "source": [
    "items_bought = 0\n",
    "expired = True\n",
    "premium_member = True\n",
    "offer_applied = (items_bought > 2 and not expired) or (premium_member)\n",
    "offer_applied"
   ]
  },
  {
   "cell_type": "markdown",
   "id": "1a3193e7",
   "metadata": {},
   "source": [
    "9. Continue working in the data_types_and_variables.py file. Use the following code to follow the instructions below:\n",
    "\n",
    "    Create a variable that holds a boolean value for each of the following conditions:\n",
    "\n",
    "    - The password must be at least 5 characters\n",
    "    - The username must be no more than 20 characters\n",
    "    - The password must not be the same as the username\n",
    "    - **Bonus** Neither the username or password can start or end with whitespace"
   ]
  },
  {
   "cell_type": "code",
   "execution_count": 23,
   "id": "f22ebe4c",
   "metadata": {},
   "outputs": [],
   "source": [
    "username = 'codeup'\n",
    "password = 'notastrongpassword'"
   ]
  },
  {
   "cell_type": "code",
   "execution_count": 24,
   "id": "982fda91",
   "metadata": {},
   "outputs": [
    {
     "name": "stdout",
     "output_type": "stream",
     "text": [
      "True\n",
      "True\n"
     ]
    }
   ],
   "source": [
    "# function for bonus\n",
    "def st_or_en_whitespace(word):\n",
    "    return (not word[0].isspace() and not word[-1].isspace())\n",
    "\n",
    "# len >= 5 and not username and bonus\n",
    "is_valid_pwd = ( (len(password) >= 5) and (password != username)\n",
    "                   and st_or_en_whitespace(password))\n",
    "\n",
    "# len <= 20 and bonus\n",
    "is_valid_user = (len(username) <= 20) and st_or_en_whitespace(username)\n",
    "\n",
    "# print results\n",
    "print(is_valid_pwd)\n",
    "print(is_valid_user)\n",
    "\n",
    "# # using last two rows to test single conditional statements\n",
    "# print(password != username)\n",
    "# print(not username[0].isspace())"
   ]
  },
  {
   "cell_type": "code",
   "execution_count": null,
   "id": "47d17756",
   "metadata": {},
   "outputs": [],
   "source": []
  }
 ],
 "metadata": {
  "kernelspec": {
   "display_name": "Python 3 (ipykernel)",
   "language": "python",
   "name": "python3"
  },
  "language_info": {
   "codemirror_mode": {
    "name": "ipython",
    "version": 3
   },
   "file_extension": ".py",
   "mimetype": "text/x-python",
   "name": "python",
   "nbconvert_exporter": "python",
   "pygments_lexer": "ipython3",
   "version": "3.9.12"
  }
 },
 "nbformat": 4,
 "nbformat_minor": 5
}
