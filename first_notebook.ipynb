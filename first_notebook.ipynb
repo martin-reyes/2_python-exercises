{
 "cells": [
  {
   "cell_type": "markdown",
   "id": "fc512967",
   "metadata": {},
   "source": [
    "`pip install <package-name>`\n",
    "\n",
    "`pip list`\n",
    "\n",
    "`pip install --upgrade <package-name>`\n",
    "\n",
    "\n",
    "\n",
    "\n",
    "`pip install jupyter_contrib_nbextensions`\n",
    "\n",
    "`jupyter contrib nbextension install --user`\n",
    "\n",
    "`jupyter nbextension enable varInspector/main`"
   ]
  },
  {
   "cell_type": "code",
   "execution_count": 2,
   "id": "2ec6275e",
   "metadata": {},
   "outputs": [],
   "source": [
    "def is_vowel(letter):\n",
    "    # assert len(letter) == 0, \"letter isn't one character\"\n",
    "    if letter.lower() in [\"a\", \"e\", \"i\", \"o\", \"u\"]:\n",
    "        return True\n",
    "    else: \n",
    "        return False"
   ]
  },
  {
   "cell_type": "code",
   "execution_count": null,
   "id": "d46ccc21",
   "metadata": {},
   "outputs": [],
   "source": [
    "assert is_vowel(\"a\") == True, \"is_vowel('a') doesn't return True\"\n",
    "assert is_vowel(\"u\") == True, \"is_vowel('u') doesn't return True\"\n",
    "assert is_vowel(\"t\") == False, \"is_vowel('t') doesn't returns False\"\n",
    "print(\"Good!\")"
   ]
  },
  {
   "cell_type": "code",
   "execution_count": null,
   "id": "393092e4",
   "metadata": {},
   "outputs": [],
   "source": []
  }
 ],
 "metadata": {
  "kernelspec": {
   "display_name": "Python 3 (ipykernel)",
   "language": "python",
   "name": "python3"
  },
  "language_info": {
   "codemirror_mode": {
    "name": "ipython",
    "version": 3
   },
   "file_extension": ".py",
   "mimetype": "text/x-python",
   "name": "python",
   "nbconvert_exporter": "python",
   "pygments_lexer": "ipython3",
   "version": "3.10.9"
  },
  "varInspector": {
   "cols": {
    "lenName": 16,
    "lenType": 16,
    "lenVar": 40
   },
   "kernels_config": {
    "python": {
     "delete_cmd_postfix": "",
     "delete_cmd_prefix": "del ",
     "library": "var_list.py",
     "varRefreshCmd": "print(var_dic_list())"
    },
    "r": {
     "delete_cmd_postfix": ") ",
     "delete_cmd_prefix": "rm(",
     "library": "var_list.r",
     "varRefreshCmd": "cat(var_dic_list()) "
    }
   },
   "types_to_exclude": [
    "module",
    "function",
    "builtin_function_or_method",
    "instance",
    "_Feature"
   ],
   "window_display": false
  }
 },
 "nbformat": 4,
 "nbformat_minor": 5
}
