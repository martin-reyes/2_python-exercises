{
 "cells": [
  {
   "cell_type": "markdown",
   "id": "fc512967",
   "metadata": {},
   "source": [
    "`pip install <package-name>`\n",
    "\n",
    "`pip list`\n",
    "\n",
    "`pip install --upgrade <package-name>`\n",
    "\n"
   ]
  }
 ],
 "metadata": {
  "kernelspec": {
   "display_name": "Python 3 (ipykernel)",
   "language": "python",
   "name": "python3"
  },
  "language_info": {
   "codemirror_mode": {
    "name": "ipython",
    "version": 3
   },
   "file_extension": ".py",
   "mimetype": "text/x-python",
   "name": "python",
   "nbconvert_exporter": "python",
   "pygments_lexer": "ipython3",
   "version": "3.9.12"
  }
 },
 "nbformat": 4,
 "nbformat_minor": 5
}
