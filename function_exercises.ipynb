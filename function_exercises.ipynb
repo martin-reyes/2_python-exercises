{
 "cells": [
  {
   "cell_type": "markdown",
   "id": "dfb61ccb",
   "metadata": {},
   "source": [
    "Create a file named function_exercises.py for this exercise. After creating each function specified below, write the necessary code in order to test your function.\n",
    "\n",
    "1. Define a function named is_two. It should accept one input and return `True` if the passed input is either the number or the string 2, `False` otherwise.\n",
    "2. Define a function named is_vowel. It should return True if the passed string is a vowel, False otherwise.\n",
    "3. Define a function named is_consonant. It should return True if the passed string is a consonant, False otherwise. Use your is_vowel function to accomplish this.\n",
    "4. Define a function that accepts a string that is a word. The function should capitalize the first letter of the word if the word starts with a consonant.\n",
    "5. Define a function named calculate_tip. It should accept a tip percentage (a number between 0 and 1) and the bill total, and return the amount to tip.\n",
    "6. Define a function named apply_discount. It should accept a original price, and a discount percentage, and return the price after the discount is applied.\n",
    "7. Define a function named handle_commas. It should accept a string that is a number that contains commas in it as input, and return a number as output.\n",
    "8. Define a function named get_letter_grade. It should accept a number and return the letter grade associated with that number (A-F).\n",
    "9. Define a function named remove_vowels that accepts a string and returns a string with all the vowels removed.\n",
    "10. Define a function named normalize_name. It should accept a string and return a valid python identifier, that is:\n",
    "    - anything that is not a valid python identifier should be removed\n",
    "    - leading and trailing whitespace should be removed\n",
    "    - everything should be lowercase\n",
    "    - spaces should be replaced with underscores\n",
    "    - for example:\n",
    "        - Name will become name\n",
    "        - First Name will become first_name\n",
    "        - % Completed will become completed\n",
    "11. Write a function named cumulative_sum that accepts a list of numbers and returns a list that is the cumulative sum of the numbers in the list.\n",
    "    - cumulative_sum([1, 1, 1]) returns [1, 2, 3]\n",
    "    - cumulative_sum([1, 2, 3, 4]) returns [1, 3, 6, 10]\n",
    "\n",
    "\n"
   ]
  },
  {
   "cell_type": "markdown",
   "id": "9f2bc222",
   "metadata": {},
   "source": [
    "Additional Exercise\n",
    "\n",
    "- Once you've completed the above exercises, follow the directions from https://gist.github.com/zgulde/ec8ed80ad8216905cda83d5645c60886 in order to thouroughly comment your code to explain your code.\n",
    "\n",
    "Bonus\n",
    "\n",
    "- Create a function named twelveto24. It should accept a string in the format 10:45am or 4:30pm and return a string that is the representation of the time in a 24-hour format. Bonus write a function that does the opposite.\n",
    "- Create a function named col_index. It should accept a spreadsheet column name, and return the index number of the column.\n",
    "    - col_index('A') returns 1\n",
    "    - col_index('B') returns 2\n",
    "    - col_index('AA') returns 27"
   ]
  },
  {
   "cell_type": "code",
   "execution_count": null,
   "id": "19986089",
   "metadata": {},
   "outputs": [],
   "source": []
  }
 ],
 "metadata": {
  "kernelspec": {
   "display_name": "Python 3 (ipykernel)",
   "language": "python",
   "name": "python3"
  },
  "language_info": {
   "codemirror_mode": {
    "name": "ipython",
    "version": 3
   },
   "file_extension": ".py",
   "mimetype": "text/x-python",
   "name": "python",
   "nbconvert_exporter": "python",
   "pygments_lexer": "ipython3",
   "version": "3.9.12"
  }
 },
 "nbformat": 4,
 "nbformat_minor": 5
}
